{
 "cells": [
  {
   "cell_type": "markdown",
   "metadata": {},
   "source": [
    "# Support Vector Machines for Winner Prediction"
   ]
  },
  {
   "cell_type": "code",
   "execution_count": 1,
   "metadata": {},
   "outputs": [],
   "source": [
    "import numpy as np \n",
    "import pandas as pd \n",
    "import seaborn as sns\n",
    "import matplotlib.pyplot as plt\n",
    "from sklearn.model_selection import train_test_split # Import train_test_split function\n",
    "from sklearn import svm #Import svm model\n",
    "from sklearn import metrics #Import scikit-learn metrics module for accuracy calculation\n",
    "from sklearn.metrics import confusion_matrix"
   ]
  },
  {
   "cell_type": "code",
   "execution_count": 2,
   "metadata": {},
   "outputs": [],
   "source": [
    "import pandas as pd\n",
    "from sklearn.model_selection import train_test_split\n",
    "from sklearn.linear_model import LogisticRegression\n",
    "from sklearn.metrics import accuracy_score, classification_report\n",
    "from sklearn.preprocessing import LabelEncoder"
   ]
  },
  {
   "cell_type": "code",
   "execution_count": 3,
   "metadata": {},
   "outputs": [],
   "source": [
    "# Load the data\n",
    "data = pd.read_csv('../1D_All_ReplaysData_PvP.csv')\n",
    "\n",
    "# Assuming combined_data is your DataFrame\n",
    "data = data.drop(data[data['Winner'] == 0].index)\n",
    "# Assuming df is your DataFrame and 'ReplayID' is the column to be encoded\n",
    "label_encoder = LabelEncoder()\n",
    "data['ReplayID_encoded'] = label_encoder.fit_transform(data['ReplayID'])\n",
    "# data['Winner'] = label_encoder.fit_transform(data['Winner'])\n",
    "data['MapName_encoded'] = label_encoder.fit_transform(data['MapName'])\n",
    "\n",
    "# last_rows = data.groupby('ReplayID').tail(70).groupby('ReplayID').head(1)\n",
    "\n",
    "# Calculate the 80th percentile of the 'Frame' column within each group of 'ReplayID'\n",
    "percentile_80_grouped = data.groupby('ReplayID')['Frame'].quantile(0.8)\n",
    "\n",
    "# Define a function to find the row with the closest 'Frame' value to the 80th percentile within each group\n",
    "def find_nearest_row(group):\n",
    "    nearest_index = (group['Frame'] - percentile_80_grouped[group.name]).abs().idxmin()\n",
    "    return group.loc[[nearest_index]]\n",
    "\n",
    "# Apply the function to each group of 'ReplayID' and concatenate the results\n",
    "nearest_rows = data.groupby('ReplayID', group_keys=False).apply(find_nearest_row)\n",
    "\n",
    "# Reset the index if needed\n",
    "nearest_rows.reset_index(drop=True, inplace=True)\n"
   ]
  },
  {
   "cell_type": "code",
   "execution_count": 4,
   "metadata": {},
   "outputs": [
    {
     "data": {
      "text/html": [
       "<div>\n",
       "<style scoped>\n",
       "    .dataframe tbody tr th:only-of-type {\n",
       "        vertical-align: middle;\n",
       "    }\n",
       "\n",
       "    .dataframe tbody tr th {\n",
       "        vertical-align: top;\n",
       "    }\n",
       "\n",
       "    .dataframe thead th {\n",
       "        text-align: right;\n",
       "    }\n",
       "</style>\n",
       "<table border=\"1\" class=\"dataframe\">\n",
       "  <thead>\n",
       "    <tr style=\"text-align: right;\">\n",
       "      <th></th>\n",
       "      <th>ReplayID</th>\n",
       "      <th>Duration</th>\n",
       "      <th>Frame</th>\n",
       "      <th>MapName</th>\n",
       "      <th>MapWidth</th>\n",
       "      <th>MapHeight</th>\n",
       "      <th>Player1_EAPM</th>\n",
       "      <th>Player1_ECmdCount</th>\n",
       "      <th>Player1_Race</th>\n",
       "      <th>Player2_EAPM</th>\n",
       "      <th>...</th>\n",
       "      <th>Player2_Protoss Ground Armor_Level</th>\n",
       "      <th>Player2_Protoss Ground Weapons_Level</th>\n",
       "      <th>Player2_Protoss Plasma Shields_Level</th>\n",
       "      <th>Player2_Reaver Capacity_Level</th>\n",
       "      <th>Player2_Scarab Damage_Level</th>\n",
       "      <th>Player2_Sensor Array_Level</th>\n",
       "      <th>Player2_Singularity Charge_Level</th>\n",
       "      <th>Winner</th>\n",
       "      <th>ReplayID_encoded</th>\n",
       "      <th>MapName_encoded</th>\n",
       "    </tr>\n",
       "  </thead>\n",
       "  <tbody>\n",
       "    <tr>\n",
       "      <th>0</th>\n",
       "      <td>GG10</td>\n",
       "      <td>20568</td>\n",
       "      <td>16400</td>\n",
       "      <td>Blade Storm</td>\n",
       "      <td>128</td>\n",
       "      <td>128</td>\n",
       "      <td>140</td>\n",
       "      <td>2001</td>\n",
       "      <td>Protoss</td>\n",
       "      <td>105</td>\n",
       "      <td>...</td>\n",
       "      <td>0</td>\n",
       "      <td>1</td>\n",
       "      <td>0</td>\n",
       "      <td>0</td>\n",
       "      <td>0</td>\n",
       "      <td>0</td>\n",
       "      <td>1</td>\n",
       "      <td>2</td>\n",
       "      <td>0</td>\n",
       "      <td>80</td>\n",
       "    </tr>\n",
       "    <tr>\n",
       "      <th>1</th>\n",
       "      <td>GG10042</td>\n",
       "      <td>28603</td>\n",
       "      <td>22800</td>\n",
       "      <td>| iCCup | PeaksOfBeakdu</td>\n",
       "      <td>96</td>\n",
       "      <td>128</td>\n",
       "      <td>168</td>\n",
       "      <td>3360</td>\n",
       "      <td>Protoss</td>\n",
       "      <td>187</td>\n",
       "      <td>...</td>\n",
       "      <td>1</td>\n",
       "      <td>1</td>\n",
       "      <td>0</td>\n",
       "      <td>0</td>\n",
       "      <td>0</td>\n",
       "      <td>0</td>\n",
       "      <td>1</td>\n",
       "      <td>2</td>\n",
       "      <td>1</td>\n",
       "      <td>163</td>\n",
       "    </tr>\n",
       "    <tr>\n",
       "      <th>2</th>\n",
       "      <td>GG10043</td>\n",
       "      <td>34851</td>\n",
       "      <td>27800</td>\n",
       "      <td>| iCCup | Paranoid Android</td>\n",
       "      <td>96</td>\n",
       "      <td>96</td>\n",
       "      <td>182</td>\n",
       "      <td>4434</td>\n",
       "      <td>Protoss</td>\n",
       "      <td>171</td>\n",
       "      <td>...</td>\n",
       "      <td>1</td>\n",
       "      <td>1</td>\n",
       "      <td>0</td>\n",
       "      <td>0</td>\n",
       "      <td>0</td>\n",
       "      <td>0</td>\n",
       "      <td>1</td>\n",
       "      <td>2</td>\n",
       "      <td>2</td>\n",
       "      <td>162</td>\n",
       "    </tr>\n",
       "    <tr>\n",
       "      <th>3</th>\n",
       "      <td>GG10056</td>\n",
       "      <td>37973</td>\n",
       "      <td>30300</td>\n",
       "      <td>\u0007WCG \u0003G\u0006aia \u00051.1</td>\n",
       "      <td>128</td>\n",
       "      <td>128</td>\n",
       "      <td>148</td>\n",
       "      <td>3896</td>\n",
       "      <td>Protoss</td>\n",
       "      <td>169</td>\n",
       "      <td>...</td>\n",
       "      <td>2</td>\n",
       "      <td>3</td>\n",
       "      <td>0</td>\n",
       "      <td>0</td>\n",
       "      <td>0</td>\n",
       "      <td>0</td>\n",
       "      <td>1</td>\n",
       "      <td>1</td>\n",
       "      <td>3</td>\n",
       "      <td>70</td>\n",
       "    </tr>\n",
       "    <tr>\n",
       "      <th>4</th>\n",
       "      <td>GG1010</td>\n",
       "      <td>38455</td>\n",
       "      <td>30700</td>\n",
       "      <td>Gauntlet2003</td>\n",
       "      <td>128</td>\n",
       "      <td>96</td>\n",
       "      <td>166</td>\n",
       "      <td>4463</td>\n",
       "      <td>Protoss</td>\n",
       "      <td>151</td>\n",
       "      <td>...</td>\n",
       "      <td>2</td>\n",
       "      <td>1</td>\n",
       "      <td>1</td>\n",
       "      <td>0</td>\n",
       "      <td>0</td>\n",
       "      <td>0</td>\n",
       "      <td>1</td>\n",
       "      <td>2</td>\n",
       "      <td>4</td>\n",
       "      <td>85</td>\n",
       "    </tr>\n",
       "    <tr>\n",
       "      <th>...</th>\n",
       "      <td>...</td>\n",
       "      <td>...</td>\n",
       "      <td>...</td>\n",
       "      <td>...</td>\n",
       "      <td>...</td>\n",
       "      <td>...</td>\n",
       "      <td>...</td>\n",
       "      <td>...</td>\n",
       "      <td>...</td>\n",
       "      <td>...</td>\n",
       "      <td>...</td>\n",
       "      <td>...</td>\n",
       "      <td>...</td>\n",
       "      <td>...</td>\n",
       "      <td>...</td>\n",
       "      <td>...</td>\n",
       "      <td>...</td>\n",
       "      <td>...</td>\n",
       "      <td>...</td>\n",
       "      <td>...</td>\n",
       "      <td>...</td>\n",
       "    </tr>\n",
       "    <tr>\n",
       "      <th>359</th>\n",
       "      <td>TL89</td>\n",
       "      <td>30124</td>\n",
       "      <td>24000</td>\n",
       "      <td>The Lost Temple_Gamei</td>\n",
       "      <td>128</td>\n",
       "      <td>128</td>\n",
       "      <td>180</td>\n",
       "      <td>3800</td>\n",
       "      <td>Protoss</td>\n",
       "      <td>21</td>\n",
       "      <td>...</td>\n",
       "      <td>0</td>\n",
       "      <td>0</td>\n",
       "      <td>0</td>\n",
       "      <td>0</td>\n",
       "      <td>0</td>\n",
       "      <td>0</td>\n",
       "      <td>0</td>\n",
       "      <td>1</td>\n",
       "      <td>359</td>\n",
       "      <td>106</td>\n",
       "    </tr>\n",
       "    <tr>\n",
       "      <th>360</th>\n",
       "      <td>TL900</td>\n",
       "      <td>53788</td>\n",
       "      <td>43000</td>\n",
       "      <td>Desert FoX</td>\n",
       "      <td>128</td>\n",
       "      <td>128</td>\n",
       "      <td>187</td>\n",
       "      <td>7027</td>\n",
       "      <td>Protoss</td>\n",
       "      <td>171</td>\n",
       "      <td>...</td>\n",
       "      <td>0</td>\n",
       "      <td>0</td>\n",
       "      <td>1</td>\n",
       "      <td>0</td>\n",
       "      <td>0</td>\n",
       "      <td>0</td>\n",
       "      <td>0</td>\n",
       "      <td>1</td>\n",
       "      <td>360</td>\n",
       "      <td>82</td>\n",
       "    </tr>\n",
       "    <tr>\n",
       "      <th>361</th>\n",
       "      <td>TL937</td>\n",
       "      <td>34624</td>\n",
       "      <td>27600</td>\n",
       "      <td>\u0006신 \u0003백두대간 \u00052.4</td>\n",
       "      <td>96</td>\n",
       "      <td>128</td>\n",
       "      <td>216</td>\n",
       "      <td>5225</td>\n",
       "      <td>Protoss</td>\n",
       "      <td>223</td>\n",
       "      <td>...</td>\n",
       "      <td>1</td>\n",
       "      <td>3</td>\n",
       "      <td>0</td>\n",
       "      <td>0</td>\n",
       "      <td>0</td>\n",
       "      <td>0</td>\n",
       "      <td>0</td>\n",
       "      <td>2</td>\n",
       "      <td>361</td>\n",
       "      <td>41</td>\n",
       "    </tr>\n",
       "    <tr>\n",
       "      <th>362</th>\n",
       "      <td>TL959</td>\n",
       "      <td>49197</td>\n",
       "      <td>39300</td>\n",
       "      <td>\u0007R\u0006ush \u0004Hour \u0002Ⅲ</td>\n",
       "      <td>128</td>\n",
       "      <td>128</td>\n",
       "      <td>151</td>\n",
       "      <td>5181</td>\n",
       "      <td>Protoss</td>\n",
       "      <td>120</td>\n",
       "      <td>...</td>\n",
       "      <td>0</td>\n",
       "      <td>0</td>\n",
       "      <td>0</td>\n",
       "      <td>0</td>\n",
       "      <td>0</td>\n",
       "      <td>0</td>\n",
       "      <td>1</td>\n",
       "      <td>1</td>\n",
       "      <td>362</td>\n",
       "      <td>65</td>\n",
       "    </tr>\n",
       "    <tr>\n",
       "      <th>363</th>\n",
       "      <td>TL996</td>\n",
       "      <td>50903</td>\n",
       "      <td>40600</td>\n",
       "      <td>\u0003Monty \u0002Hall\u0006_SE \u00052.1</td>\n",
       "      <td>128</td>\n",
       "      <td>128</td>\n",
       "      <td>196</td>\n",
       "      <td>6984</td>\n",
       "      <td>Protoss</td>\n",
       "      <td>206</td>\n",
       "      <td>...</td>\n",
       "      <td>0</td>\n",
       "      <td>2</td>\n",
       "      <td>0</td>\n",
       "      <td>0</td>\n",
       "      <td>0</td>\n",
       "      <td>0</td>\n",
       "      <td>1</td>\n",
       "      <td>1</td>\n",
       "      <td>363</td>\n",
       "      <td>4</td>\n",
       "    </tr>\n",
       "  </tbody>\n",
       "</table>\n",
       "<p>364 rows × 163 columns</p>\n",
       "</div>"
      ],
      "text/plain": [
       "    ReplayID  Duration  Frame                     MapName  MapWidth  \\\n",
       "0       GG10     20568  16400                 Blade Storm       128   \n",
       "1    GG10042     28603  22800     | iCCup | PeaksOfBeakdu        96   \n",
       "2    GG10043     34851  27800  | iCCup | Paranoid Android        96   \n",
       "3    GG10056     37973  30300            \u0007WCG \u0003G\u0006aia \u00051.1       128   \n",
       "4     GG1010     38455  30700                Gauntlet2003       128   \n",
       "..       ...       ...    ...                         ...       ...   \n",
       "359     TL89     30124  24000       The Lost Temple_Gamei       128   \n",
       "360    TL900     53788  43000                  Desert FoX       128   \n",
       "361    TL937     34624  27600               \u0006신 \u0003백두대간 \u00052.4        96   \n",
       "362    TL959     49197  39300             \u0007R\u0006ush \u0004Hour \u0002Ⅲ       128   \n",
       "363    TL996     50903  40600       \u0003Monty \u0002Hall\u0006_SE \u00052.1       128   \n",
       "\n",
       "     MapHeight  Player1_EAPM  Player1_ECmdCount Player1_Race  Player2_EAPM  \\\n",
       "0          128           140               2001      Protoss           105   \n",
       "1          128           168               3360      Protoss           187   \n",
       "2           96           182               4434      Protoss           171   \n",
       "3          128           148               3896      Protoss           169   \n",
       "4           96           166               4463      Protoss           151   \n",
       "..         ...           ...                ...          ...           ...   \n",
       "359        128           180               3800      Protoss            21   \n",
       "360        128           187               7027      Protoss           171   \n",
       "361        128           216               5225      Protoss           223   \n",
       "362        128           151               5181      Protoss           120   \n",
       "363        128           196               6984      Protoss           206   \n",
       "\n",
       "     ...  Player2_Protoss Ground Armor_Level  \\\n",
       "0    ...                                   0   \n",
       "1    ...                                   1   \n",
       "2    ...                                   1   \n",
       "3    ...                                   2   \n",
       "4    ...                                   2   \n",
       "..   ...                                 ...   \n",
       "359  ...                                   0   \n",
       "360  ...                                   0   \n",
       "361  ...                                   1   \n",
       "362  ...                                   0   \n",
       "363  ...                                   0   \n",
       "\n",
       "    Player2_Protoss Ground Weapons_Level  \\\n",
       "0                                      1   \n",
       "1                                      1   \n",
       "2                                      1   \n",
       "3                                      3   \n",
       "4                                      1   \n",
       "..                                   ...   \n",
       "359                                    0   \n",
       "360                                    0   \n",
       "361                                    3   \n",
       "362                                    0   \n",
       "363                                    2   \n",
       "\n",
       "     Player2_Protoss Plasma Shields_Level  Player2_Reaver Capacity_Level  \\\n",
       "0                                       0                              0   \n",
       "1                                       0                              0   \n",
       "2                                       0                              0   \n",
       "3                                       0                              0   \n",
       "4                                       1                              0   \n",
       "..                                    ...                            ...   \n",
       "359                                     0                              0   \n",
       "360                                     1                              0   \n",
       "361                                     0                              0   \n",
       "362                                     0                              0   \n",
       "363                                     0                              0   \n",
       "\n",
       "     Player2_Scarab Damage_Level  Player2_Sensor Array_Level  \\\n",
       "0                              0                           0   \n",
       "1                              0                           0   \n",
       "2                              0                           0   \n",
       "3                              0                           0   \n",
       "4                              0                           0   \n",
       "..                           ...                         ...   \n",
       "359                            0                           0   \n",
       "360                            0                           0   \n",
       "361                            0                           0   \n",
       "362                            0                           0   \n",
       "363                            0                           0   \n",
       "\n",
       "     Player2_Singularity Charge_Level  Winner  ReplayID_encoded  \\\n",
       "0                                   1       2                 0   \n",
       "1                                   1       2                 1   \n",
       "2                                   1       2                 2   \n",
       "3                                   1       1                 3   \n",
       "4                                   1       2                 4   \n",
       "..                                ...     ...               ...   \n",
       "359                                 0       1               359   \n",
       "360                                 0       1               360   \n",
       "361                                 0       2               361   \n",
       "362                                 1       1               362   \n",
       "363                                 1       1               363   \n",
       "\n",
       "     MapName_encoded  \n",
       "0                 80  \n",
       "1                163  \n",
       "2                162  \n",
       "3                 70  \n",
       "4                 85  \n",
       "..               ...  \n",
       "359              106  \n",
       "360               82  \n",
       "361               41  \n",
       "362               65  \n",
       "363                4  \n",
       "\n",
       "[364 rows x 163 columns]"
      ]
     },
     "execution_count": 4,
     "metadata": {},
     "output_type": "execute_result"
    }
   ],
   "source": [
    "nearest_rows"
   ]
  },
  {
   "cell_type": "code",
   "execution_count": 5,
   "metadata": {},
   "outputs": [],
   "source": [
    "# Define features (X) and target variable (y)\n",
    "X = nearest_rows.drop(['ReplayID', 'Winner','Player1_Race', 'Player2_Race', 'MapName'], axis=1)\n",
    "y = nearest_rows['Winner']"
   ]
  },
  {
   "cell_type": "code",
   "execution_count": 6,
   "metadata": {},
   "outputs": [],
   "source": [
    "X_train, X_test, y_train, y_test = train_test_split(X, y, test_size=0.3,random_state=109) # 70% training and 30% test"
   ]
  },
  {
   "cell_type": "code",
   "execution_count": 7,
   "metadata": {},
   "outputs": [],
   "source": [
    "#Create a svm Classifier\n",
    "ml = svm.SVC() # Linear Kernel\n",
    "\n",
    "#Train the model using the training sets\n",
    "ml.fit(X_train, y_train)\n",
    "\n",
    "#Predict the response for test dataset\n",
    "y_pred = ml.predict(X_test)"
   ]
  },
  {
   "cell_type": "code",
   "execution_count": 9,
   "metadata": {},
   "outputs": [
    {
     "data": {
      "text/plain": [
       "0.6272727272727273"
      ]
     },
     "execution_count": 9,
     "metadata": {},
     "output_type": "execute_result"
    }
   ],
   "source": [
    "# Model Accuracy\n",
    "ml.score(X_test,y_test)"
   ]
  },
  {
   "cell_type": "code",
   "execution_count": 10,
   "metadata": {},
   "outputs": [
    {
     "data": {
      "text/plain": [
       "array([[14, 35],\n",
       "       [ 6, 55]], dtype=int64)"
      ]
     },
     "execution_count": 10,
     "metadata": {},
     "output_type": "execute_result"
    }
   ],
   "source": [
    "confusion_matrix(y_test,y_pred)"
   ]
  },
  {
   "cell_type": "code",
   "execution_count": null,
   "metadata": {},
   "outputs": [],
   "source": []
  },
  {
   "cell_type": "code",
   "execution_count": 12,
   "metadata": {},
   "outputs": [],
   "source": [
    "#Create a svm Classifier\n",
    "ml = svm.SVC(C=100, gamma=0.0001, kernel=\"linear\") # Linear Kernel\n",
    "\n",
    "#Train the model using the training sets\n",
    "ml.fit(X_train, y_train)\n",
    "\n",
    "#Predict the response for test dataset\n",
    "y_pred = ml.predict(X_test)"
   ]
  },
  {
   "cell_type": "code",
   "execution_count": 13,
   "metadata": {},
   "outputs": [
    {
     "data": {
      "text/plain": [
       "0.7454545454545455"
      ]
     },
     "execution_count": 13,
     "metadata": {},
     "output_type": "execute_result"
    }
   ],
   "source": [
    "# Model Accuracy\n",
    "ml.score(X_test,y_test)"
   ]
  },
  {
   "cell_type": "code",
   "execution_count": 14,
   "metadata": {},
   "outputs": [
    {
     "name": "stdout",
     "output_type": "stream",
     "text": [
      "              precision    recall  f1-score   support\n",
      "\n",
      "           1       0.71      0.71      0.71        49\n",
      "           2       0.77      0.77      0.77        61\n",
      "\n",
      "    accuracy                           0.75       110\n",
      "   macro avg       0.74      0.74      0.74       110\n",
      "weighted avg       0.75      0.75      0.75       110\n",
      "\n"
     ]
    }
   ],
   "source": [
    "print(classification_report(y_test, y_pred)) "
   ]
  },
  {
   "cell_type": "code",
   "execution_count": 15,
   "metadata": {},
   "outputs": [
    {
     "data": {
      "text/plain": [
       "array([[35, 14],\n",
       "       [14, 47]], dtype=int64)"
      ]
     },
     "execution_count": 15,
     "metadata": {},
     "output_type": "execute_result"
    }
   ],
   "source": [
    "confusion_matrix(y_test,y_pred)"
   ]
  },
  {
   "cell_type": "markdown",
   "metadata": {},
   "source": [
    "# GridSearch for Parameter Tuning"
   ]
  },
  {
   "cell_type": "code",
   "execution_count": 16,
   "metadata": {},
   "outputs": [
    {
     "name": "stdout",
     "output_type": "stream",
     "text": [
      "Fitting 5 folds for each of 50 candidates, totalling 250 fits\n",
      "[CV 1/5] END ........C=0.1, gamma=1, kernel=rbf;, score=0.510 total time=   0.0s\n",
      "[CV 2/5] END ........C=0.1, gamma=1, kernel=rbf;, score=0.510 total time=   0.0s\n",
      "[CV 3/5] END ........C=0.1, gamma=1, kernel=rbf;, score=0.510 total time=   0.0s\n",
      "[CV 4/5] END ........C=0.1, gamma=1, kernel=rbf;, score=0.490 total time=   0.0s\n",
      "[CV 5/5] END ........C=0.1, gamma=1, kernel=rbf;, score=0.500 total time=   0.0s\n",
      "[CV 1/5] END .....C=0.1, gamma=1, kernel=linear;, score=0.902 total time= 1.0min\n",
      "[CV 2/5] END .....C=0.1, gamma=1, kernel=linear;, score=0.725 total time= 1.8min\n",
      "[CV 3/5] END .....C=0.1, gamma=1, kernel=linear;, score=0.765 total time= 3.1min\n",
      "[CV 4/5] END .....C=0.1, gamma=1, kernel=linear;, score=0.824 total time= 2.2min\n",
      "[CV 5/5] END .....C=0.1, gamma=1, kernel=linear;, score=0.780 total time=  36.0s\n",
      "[CV 1/5] END ......C=0.1, gamma=0.1, kernel=rbf;, score=0.510 total time=   0.0s\n",
      "[CV 2/5] END ......C=0.1, gamma=0.1, kernel=rbf;, score=0.510 total time=   0.0s\n",
      "[CV 3/5] END ......C=0.1, gamma=0.1, kernel=rbf;, score=0.510 total time=   0.0s\n",
      "[CV 4/5] END ......C=0.1, gamma=0.1, kernel=rbf;, score=0.490 total time=   0.0s\n",
      "[CV 5/5] END ......C=0.1, gamma=0.1, kernel=rbf;, score=0.500 total time=   0.0s\n",
      "[CV 1/5] END ...C=0.1, gamma=0.1, kernel=linear;, score=0.902 total time=  59.6s\n",
      "[CV 2/5] END ...C=0.1, gamma=0.1, kernel=linear;, score=0.725 total time= 1.9min\n",
      "[CV 3/5] END ...C=0.1, gamma=0.1, kernel=linear;, score=0.765 total time= 3.5min\n",
      "[CV 4/5] END ...C=0.1, gamma=0.1, kernel=linear;, score=0.824 total time= 2.2min\n",
      "[CV 5/5] END ...C=0.1, gamma=0.1, kernel=linear;, score=0.780 total time=  34.1s\n",
      "[CV 1/5] END .....C=0.1, gamma=0.01, kernel=rbf;, score=0.510 total time=   0.0s\n",
      "[CV 2/5] END .....C=0.1, gamma=0.01, kernel=rbf;, score=0.510 total time=   0.0s\n",
      "[CV 3/5] END .....C=0.1, gamma=0.01, kernel=rbf;, score=0.510 total time=   0.0s\n",
      "[CV 4/5] END .....C=0.1, gamma=0.01, kernel=rbf;, score=0.490 total time=   0.0s\n",
      "[CV 5/5] END .....C=0.1, gamma=0.01, kernel=rbf;, score=0.500 total time=   0.0s\n",
      "[CV 1/5] END ..C=0.1, gamma=0.01, kernel=linear;, score=0.902 total time= 1.0min\n",
      "[CV 2/5] END ..C=0.1, gamma=0.01, kernel=linear;, score=0.725 total time= 1.9min\n",
      "[CV 3/5] END ..C=0.1, gamma=0.01, kernel=linear;, score=0.765 total time= 3.3min\n",
      "[CV 4/5] END ..C=0.1, gamma=0.01, kernel=linear;, score=0.824 total time= 2.2min\n",
      "[CV 5/5] END ..C=0.1, gamma=0.01, kernel=linear;, score=0.780 total time=  36.0s\n",
      "[CV 1/5] END ....C=0.1, gamma=0.001, kernel=rbf;, score=0.510 total time=   0.0s\n",
      "[CV 2/5] END ....C=0.1, gamma=0.001, kernel=rbf;, score=0.510 total time=   0.0s\n",
      "[CV 3/5] END ....C=0.1, gamma=0.001, kernel=rbf;, score=0.510 total time=   0.0s\n",
      "[CV 4/5] END ....C=0.1, gamma=0.001, kernel=rbf;, score=0.490 total time=   0.0s\n",
      "[CV 5/5] END ....C=0.1, gamma=0.001, kernel=rbf;, score=0.500 total time=   0.0s\n",
      "[CV 1/5] END .C=0.1, gamma=0.001, kernel=linear;, score=0.902 total time=  57.4s\n",
      "[CV 2/5] END .C=0.1, gamma=0.001, kernel=linear;, score=0.725 total time= 1.9min\n",
      "[CV 3/5] END .C=0.1, gamma=0.001, kernel=linear;, score=0.765 total time= 3.2min\n",
      "[CV 4/5] END .C=0.1, gamma=0.001, kernel=linear;, score=0.824 total time= 2.0min\n",
      "[CV 5/5] END .C=0.1, gamma=0.001, kernel=linear;, score=0.780 total time=  33.9s\n",
      "[CV 1/5] END ...C=0.1, gamma=0.0001, kernel=rbf;, score=0.510 total time=   0.0s\n",
      "[CV 2/5] END ...C=0.1, gamma=0.0001, kernel=rbf;, score=0.510 total time=   0.0s\n",
      "[CV 3/5] END ...C=0.1, gamma=0.0001, kernel=rbf;, score=0.510 total time=   0.0s\n",
      "[CV 4/5] END ...C=0.1, gamma=0.0001, kernel=rbf;, score=0.490 total time=   0.0s\n",
      "[CV 5/5] END ...C=0.1, gamma=0.0001, kernel=rbf;, score=0.500 total time=   0.0s\n",
      "[CV 1/5] END C=0.1, gamma=0.0001, kernel=linear;, score=0.902 total time=  56.4s\n",
      "[CV 2/5] END C=0.1, gamma=0.0001, kernel=linear;, score=0.725 total time= 1.9min\n",
      "[CV 3/5] END C=0.1, gamma=0.0001, kernel=linear;, score=0.765 total time= 3.2min\n",
      "[CV 4/5] END C=0.1, gamma=0.0001, kernel=linear;, score=0.824 total time= 2.1min\n",
      "[CV 5/5] END C=0.1, gamma=0.0001, kernel=linear;, score=0.780 total time=  33.9s\n",
      "[CV 1/5] END ..........C=1, gamma=1, kernel=rbf;, score=0.510 total time=   0.0s\n",
      "[CV 2/5] END ..........C=1, gamma=1, kernel=rbf;, score=0.510 total time=   0.0s\n",
      "[CV 3/5] END ..........C=1, gamma=1, kernel=rbf;, score=0.510 total time=   0.0s\n",
      "[CV 4/5] END ..........C=1, gamma=1, kernel=rbf;, score=0.490 total time=   0.0s\n",
      "[CV 5/5] END ..........C=1, gamma=1, kernel=rbf;, score=0.500 total time=   0.0s\n",
      "[CV 1/5] END .......C=1, gamma=1, kernel=linear;, score=0.902 total time= 2.6min\n",
      "[CV 2/5] END .......C=1, gamma=1, kernel=linear;, score=0.725 total time= 3.2min\n",
      "[CV 3/5] END .......C=1, gamma=1, kernel=linear;, score=0.863 total time= 9.7min\n",
      "[CV 4/5] END .......C=1, gamma=1, kernel=linear;, score=0.804 total time= 3.1min\n",
      "[CV 5/5] END .......C=1, gamma=1, kernel=linear;, score=0.780 total time=  41.1s\n",
      "[CV 1/5] END ........C=1, gamma=0.1, kernel=rbf;, score=0.510 total time=   0.0s\n",
      "[CV 2/5] END ........C=1, gamma=0.1, kernel=rbf;, score=0.510 total time=   0.0s\n",
      "[CV 3/5] END ........C=1, gamma=0.1, kernel=rbf;, score=0.510 total time=   0.0s\n",
      "[CV 4/5] END ........C=1, gamma=0.1, kernel=rbf;, score=0.490 total time=   0.0s\n",
      "[CV 5/5] END ........C=1, gamma=0.1, kernel=rbf;, score=0.500 total time=   0.0s\n",
      "[CV 1/5] END .....C=1, gamma=0.1, kernel=linear;, score=0.902 total time= 2.7min\n",
      "[CV 2/5] END .....C=1, gamma=0.1, kernel=linear;, score=0.725 total time= 3.5min\n"
     ]
    },
    {
     "ename": "",
     "evalue": "",
     "output_type": "error",
     "traceback": [
      "\u001b[1;31mThe Kernel crashed while executing code in the current cell or a previous cell. \n",
      "\u001b[1;31mPlease review the code in the cell(s) to identify a possible cause of the failure. \n",
      "\u001b[1;31mClick <a href='https://aka.ms/vscodeJupyterKernelCrash'>here</a> for more info. \n",
      "\u001b[1;31mView Jupyter <a href='command:jupyter.viewOutput'>log</a> for further details."
     ]
    }
   ],
   "source": [
    "from sklearn.model_selection import GridSearchCV \n",
    "\n",
    "# defining parameter range \n",
    "param_grid = {'C': [0.1, 1, 10, 100, 1000], \n",
    "\t\t\t'gamma': [1, 0.1, 0.01, 0.001, 0.0001], \n",
    "\t\t\t'kernel': ['rbf','linear']} \n",
    "\n",
    "grid = GridSearchCV(svm.SVC(), param_grid, refit = True, verbose = 3) \n",
    "\n",
    "# fitting the model for grid search \n",
    "grid.fit(X_train, y_train) \n"
   ]
  },
  {
   "cell_type": "code",
   "execution_count": 26,
   "metadata": {},
   "outputs": [
    {
     "data": {
      "text/plain": [
       "0.7545454545454545"
      ]
     },
     "execution_count": 26,
     "metadata": {},
     "output_type": "execute_result"
    }
   ],
   "source": [
    "#Create a svm Classifier\n",
    "ml = svm.SVC(C=0.1, gamma=1, kernel=\"linear\") # Linear Kernel\n",
    "\n",
    "#Train the model using the training sets\n",
    "ml.fit(X_train, y_train)\n",
    "\n",
    "#Predict the response for test dataset\n",
    "y_pred = ml.predict(X_test)\n",
    "# Model Accuracy\n",
    "ml.score(X_test,y_test)"
   ]
  },
  {
   "cell_type": "markdown",
   "metadata": {},
   "source": [
    "# LinearSVC"
   ]
  },
  {
   "cell_type": "code",
   "execution_count": 24,
   "metadata": {},
   "outputs": [
    {
     "data": {
      "text/plain": [
       "0.7909090909090909"
      ]
     },
     "execution_count": 24,
     "metadata": {},
     "output_type": "execute_result"
    }
   ],
   "source": [
    "#Create a svm Classifier\n",
    "ml = svm.LinearSVC(C=0.00001, random_state=42, dual=\"auto\",max_iter=1000) # Linear Kernel\n",
    "\n",
    "#Train the model using the training sets\n",
    "ml.fit(X_train, y_train)\n",
    "\n",
    "#Predict the response for test dataset\n",
    "y_pred = ml.predict(X_test)\n",
    "\n",
    "# Model Accuracy\n",
    "ml.score(X_test,y_test)"
   ]
  },
  {
   "cell_type": "markdown",
   "metadata": {},
   "source": [
    "# Cross Validation"
   ]
  },
  {
   "cell_type": "code",
   "execution_count": null,
   "metadata": {},
   "outputs": [
    {
     "name": "stderr",
     "output_type": "stream",
     "text": [
      "No artists with labels found to put in legend.  Note that artists whose label start with an underscore are ignored when legend() is called with no argument.\n"
     ]
    },
    {
     "name": "stdout",
     "output_type": "stream",
     "text": [
      "Cross-validation scores: [0.89189189 0.86486486 0.67567568 0.83783784 0.94444444 0.86111111\n",
      " 0.75       0.88888889 0.80555556 0.77777778]\n",
      "Mean accuracy: 0.8298048048048049\n",
      "Standard deviation of accuracy: 0.07495414434429237\n"
     ]
    },
    {
     "data": {
      "image/png": "[encoded data removed]",
      "text/plain": [
       "<Figure size 800x600 with 1 Axes>"
      ]
     },
     "metadata": {},
     "output_type": "display_data"
    }
   ],
   "source": [
    "from sklearn.model_selection import cross_val_score\n",
    "\n",
    "# Perform cross-validation\n",
    "cv_scores = cross_val_score(ml, X, y, cv=10)  # You can adjust the number of folds (cv parameter) as needed\n",
    "\n",
    "# Print cross-validation scores\n",
    "print(\"Cross-validation scores:\", cv_scores)\n",
    "\n",
    "# Calculate and print the mean accuracy and standard deviation of the cross-validation scores\n",
    "print(\"Mean accuracy:\", cv_scores.mean())\n",
    "print(\"Standard deviation of accuracy:\", cv_scores.std())\n",
    "\n",
    "cv_scores80 = cv_scores\n",
    "# Plot cross-validation scores\n",
    "plt.figure(figsize=(8, 6))\n",
    "plt.plot(range(1, len(cv_scores) + 1), cv_scores, marker='o', linestyle='-')\n",
    "plt.xlabel('Fold')\n",
    "plt.ylabel('Accuracy')\n",
    "plt.title('Cross-Validation Scores 80%')\n",
    "plt.legend()\n",
    "plt.show()\n"
   ]
  },
  {
   "cell_type": "markdown",
   "metadata": {},
   "source": [
    "## Linear SVC On Full Dataset"
   ]
  },
  {
   "cell_type": "code",
   "execution_count": 3,
   "metadata": {},
   "outputs": [],
   "source": [
    "data = pd.read_csv('../Processed Datasets/StarCraft_Combined_Dataset.csv')  \n",
    "\n",
    "# Assuming combined_data is your DataFrame\n",
    "data = data.drop(data[data['Winner'] == 0].index)\n",
    "# Assuming df is your DataFrame and 'ReplayID' is the column to be encoded\n",
    "label_encoder = LabelEncoder()\n",
    "label_encoders = {}\n",
    "\n",
    "for column in ['ReplayID', 'Player1_Race', 'Player2_Race', 'MapName','Winner']:\n",
    "    label_encoders[column] = LabelEncoder()\n",
    "    data[column] = label_encoders[column].fit_transform(data[column])\n",
    "\n",
    "# Calculate the 80th percentile of the 'Frame' column within each group of 'ReplayID'\n",
    "percentile_80_grouped = data.groupby('ReplayID')['Frame'].quantile(0.8)\n",
    "\n",
    "# Define a function to find the row with the closest 'Frame' value to the 80th percentile within each group\n",
    "def find_nearest_row(group):\n",
    "    nearest_index = (group['Frame'] - percentile_80_grouped[group.name]).abs().idxmin()\n",
    "    return group.loc[[nearest_index]]\n",
    "\n",
    "# Apply the function to each group of 'ReplayID' and concatenate the results\n",
    "nearest_rows = data.groupby('ReplayID', group_keys=False).apply(find_nearest_row)\n",
    "\n",
    "# Reset the index if needed\n",
    "nearest_rows.reset_index(drop=True, inplace=True)\n"
   ]
  },
  {
   "cell_type": "code",
   "execution_count": 4,
   "metadata": {},
   "outputs": [],
   "source": [
    "# Define features (X) and target variable (y)\n",
    "X = nearest_rows.drop(['Winner'], axis=1)\n",
    "y = nearest_rows['Winner']"
   ]
  },
  {
   "cell_type": "code",
   "execution_count": 5,
   "metadata": {},
   "outputs": [],
   "source": [
    "X_train, X_test, y_train, y_test = train_test_split(X, y, test_size=0.3, random_state=1) # 70% training and 30% test"
   ]
  },
  {
   "cell_type": "code",
   "execution_count": 6,
   "metadata": {},
   "outputs": [
    {
     "data": {
      "text/plain": [
       "0.7394366197183099"
      ]
     },
     "execution_count": 6,
     "metadata": {},
     "output_type": "execute_result"
    }
   ],
   "source": [
    "#Create a svm Classifier\n",
    "ml = svm.LinearSVC(C=0.00001, random_state=42, dual=\"auto\",max_iter=1000) # Linear Kernel\n",
    "\n",
    "#Train the model using the training sets\n",
    "ml.fit(X_train, y_train)\n",
    "\n",
    "#Predict the response for test dataset\n",
    "y_pred = ml.predict(X_test)\n",
    "\n",
    "# Model Accuracy\n",
    "ml.score(X_test,y_test)"
   ]
  },
  {
   "cell_type": "markdown",
   "metadata": {},
   "source": [
    "### All Stages accuracy comparison"
   ]
  },
  {
   "cell_type": "code",
   "execution_count": 8,
   "metadata": {},
   "outputs": [
    {
     "name": "stdout",
     "output_type": "stream",
     "text": [
      "0.1\n",
      "Accuracy: 0.66\n",
      "0.2\n",
      "Accuracy: 0.66\n",
      "0.3\n",
      "Accuracy: 0.68\n",
      "0.4\n",
      "Accuracy: 0.70\n",
      "0.5\n",
      "Accuracy: 0.71\n",
      "0.6\n",
      "Accuracy: 0.74\n",
      "0.7\n",
      "Accuracy: 0.75\n",
      "0.8\n",
      "Accuracy: 0.77\n",
      "0.9\n",
      "Accuracy: 0.79\n",
      "1.0\n"
     ]
    },
    {
     "name": "stderr",
     "output_type": "stream",
     "text": [
      "No artists with labels found to put in legend.  Note that artists whose label start with an underscore are ignored when legend() is called with no argument.\n"
     ]
    },
    {
     "name": "stdout",
     "output_type": "stream",
     "text": [
      "Accuracy: 0.88\n"
     ]
    },
    {
     "data": {
      "image/png": "[encoded data removed]",
      "text/plain": [
       "<Figure size 1000x500 with 1 Axes>"
      ]
     },
     "metadata": {},
     "output_type": "display_data"
    }
   ],
   "source": [
    "data = pd.read_csv('../Processed Datasets/StarCraft_Combined_Dataset.csv')  \n",
    "\n",
    "# Assuming combined_data is your DataFrame\n",
    "data = data.drop(data[data['Winner'] == 0].index)\n",
    "# Assuming df is your DataFrame and 'ReplayID' is the column to be encoded\n",
    "label_encoder = LabelEncoder()\n",
    "label_encoders = {}\n",
    "\n",
    "for column in ['ReplayID', 'Player1_Race', 'Player2_Race', 'MapName','Winner']:\n",
    "    label_encoders[column] = LabelEncoder()\n",
    "    data[column] = label_encoders[column].fit_transform(data[column])\n",
    "\n",
    "def calculate_for_per2(per):\n",
    "    # Calculate the 80th percentile of the 'Frame' column within each group of 'ReplayID'\n",
    "    percentile_80_grouped = data.groupby('ReplayID')['Frame'].quantile(per)\n",
    "\n",
    "    # Define a function to find the row with the closest 'Frame' value to the 80th percentile within each group\n",
    "    def find_nearest_row(group):\n",
    "        nearest_index = (group['Frame'] - percentile_80_grouped[group.name]).abs().idxmin()\n",
    "        return group.loc[[nearest_index]]\n",
    "\n",
    "    # Apply the function to each group of 'ReplayID' and concatenate the results\n",
    "    nearest_rows = data.groupby('ReplayID', group_keys=False).apply(find_nearest_row)\n",
    "\n",
    "    # Reset the index if needed\n",
    "    nearest_rows.reset_index(drop=True, inplace=True)\n",
    "\n",
    "    # Define features (X) and target variable (y)\n",
    "    X = nearest_rows.drop(['Winner'], axis=1)\n",
    "    y = nearest_rows['Winner']\n",
    "    # Split the data into training and testing sets\n",
    "    X_train, X_test, y_train, y_test = train_test_split(X, y, test_size=0.2, random_state=42)\n",
    "\n",
    "    # Initialize the RandomForestClassifier (you can choose other classifiers as well)\n",
    "    clf = svm.LinearSVC(C=0.00001, random_state=42, dual=\"auto\",max_iter=1000) # Linear Kernel\n",
    "\n",
    "    # Train the model\n",
    "    clf.fit(X_train, y_train)\n",
    "    \n",
    "    # Make predictions on the test set\n",
    "    y_pred = clf.predict(X_test)\n",
    "\n",
    "    # Evaluate the model\n",
    "    accuracy = accuracy_score(y_test, y_pred)\n",
    "    print(f'Accuracy: {accuracy:.2f}')\n",
    "\n",
    "    # Return cross-validation scores\n",
    "    return accuracy\n",
    "\n",
    "\n",
    "plt.figure(figsize=(10, 5))\n",
    "temp = []\n",
    "for i in range(10, 110, 10):\n",
    "    print(i / 100)\n",
    "    temp.append(calculate_for_per2(i / 100))\n",
    "\n",
    "plt.plot(range(10, 110, 10),temp, marker='o', linestyle='-')\n",
    "plt.xlabel('% Percentile Frame')\n",
    "plt.ylabel('Accuracy')\n",
    "plt.title('Accuracy Scores - Comparison')\n",
    "plt.legend()\n",
    "plt.show()\n"
   ]
  },
  {
   "cell_type": "code",
   "execution_count": null,
   "metadata": {},
   "outputs": [],
   "source": []
  }
 ],
 "metadata": {
  "kernelspec": {
   "display_name": "F20DL",
   "language": "python",
   "name": "python3"
  },
  "language_info": {
   "codemirror_mode": {
    "name": "ipython",
    "version": 3
   },
   "file_extension": ".py",
   "mimetype": "text/x-python",
   "name": "python",
   "nbconvert_exporter": "python",
   "pygments_lexer": "ipython3",
   "version": "3.9.18"
  }
 },
 "nbformat": 4,
 "nbformat_minor": 2
}
