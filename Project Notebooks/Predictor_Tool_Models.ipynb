{
 "cells": [
  {
   "cell_type": "markdown",
   "metadata": {},
   "source": [
    "# Predictor Tool Models Notebook\n",
    "\n",
    "This notebook contains all the models in the winner prediction tool fitted on the all races combined dataset."
   ]
  },
  {
   "cell_type": "code",
   "execution_count": 1,
   "metadata": {},
   "outputs": [],
   "source": [
    "import pandas as pd\n",
    "import matplotlib.pyplot as plt\n",
    "import numpy as np\n",
    "import scipy.stats as stats\n",
    "import seaborn as sns\n",
    "from matplotlib import rcParams\n",
    "import csv\n",
    "import collections\n",
    "import time\n",
    "\n",
    "from sklearn.tree import DecisionTreeClassifier # Import Decision Tree Classifier\n",
    "from sklearn.model_selection import train_test_split # Import train_test_split function\n",
    "from sklearn import metrics #Import scikit-learn metrics module for accuracy calculation\n",
    "from sklearn.ensemble import RandomForestClassifier\n",
    "from scipy.stats import randint as sp_randint\n",
    "\n",
    "from sklearn.model_selection import GridSearchCV\n",
    "from sklearn.model_selection import RandomizedSearchCV\n",
    "from sklearn.metrics import confusion_matrix\n",
    "from sklearn.utils.multiclass import unique_labels\n",
    "from sklearn.preprocessing import StandardScaler, LabelEncoder\n",
    "from sklearn.metrics import accuracy_score, classification_report"
   ]
  },
  {
   "cell_type": "markdown",
   "metadata": {},
   "source": [
    "# Best Predictor"
   ]
  },
  {
   "cell_type": "code",
   "execution_count": 3,
   "metadata": {},
   "outputs": [
    {
     "name": "stdout",
     "output_type": "stream",
     "text": [
      "Game Quantile:  0.1  Accuracy: 0.68\n",
      "Game Quantile:  0.2  Accuracy: 0.74\n",
      "Game Quantile:  0.3  Accuracy: 0.68\n",
      "Game Quantile:  0.4  Accuracy: 0.76\n",
      "Game Quantile:  0.5  Accuracy: 0.74\n",
      "Game Quantile:  0.6  Accuracy: 0.82\n",
      "Game Quantile:  0.7  Accuracy: 0.84\n",
      "Game Quantile:  0.8  Accuracy: 0.92\n",
      "Game Quantile:  0.9  Accuracy: 0.86\n",
      "Game Quantile:  1.0  Accuracy: 0.92\n"
     ]
    }
   ],
   "source": [
    "# Load the data\n",
    "data = pd.read_csv('../StarCraft_Combined_Dataset.csv')  # Replace with your actual file path\n",
    "\n",
    "# Assuming combined_data is your DataFrame\n",
    "data = data.drop(data[data['Winner'] == 0].index)\n",
    "# Assuming df is your DataFrame and 'ReplayID' is the column to be encoded\n",
    "label_encoder = LabelEncoder()\n",
    "\n",
    "\n",
    "# convert 1 to 0 and 2 to 1\n",
    "data['Winner'] = data['Winner'].replace(1, 0)\n",
    "data['Winner'] = data['Winner'].replace(2, 1)\n",
    "\n",
    "# last_rows = data.groupby('ReplayID').tail(70).groupby('ReplayID').head(1)\n",
    "\n",
    "# Calculate the 80th percentile of the 'Frame' column within each group of 'ReplayID'\n",
    "percentile_80_grouped = data.groupby('ReplayID')['Frame'].quantile(0.8)\n",
    "\n",
    "# Define a function to find the row with the closest 'Frame' value to the 80th percentile within each group\n",
    "def find_nearest_row(group):\n",
    "    nearest_index = (group['Frame'] - percentile_80_grouped[group.name]).abs().idxmin()\n",
    "    return group.loc[[nearest_index]]\n",
    "\n",
    "# Apply the function to each group of 'ReplayID' and concatenate the results\n",
    "nearest_rows = data.groupby('ReplayID', group_keys=False).apply(find_nearest_row)\n",
    "\n",
    "label_encoders = {}\n",
    "\n",
    "for column in ['ReplayID', 'Player1_Race', 'Player2_Race', 'MapName']:\n",
    "    label_encoders[column] = LabelEncoder()\n",
    "    nearest_rows[column] = label_encoders[column].fit_transform(nearest_rows[column])\n",
    "\n",
    "# Reset the index if needed\n",
    "nearest_rows.reset_index(drop=True, inplace=True)\n",
    "\n",
    "# Define features (X) and target variable (y)\n",
    "X = nearest_rows[['MapName','MapWidth', 'MapHeight', 'Player1_EAPM', 'Player1_ECmdCount', 'Player1_Race', 'Player2_EAPM', 'Player2_ECmdCount', 'Player2_Race', 'Player1_TotalUnits', 'Player1_AliveUnits', 'Player2_TotalUnits', 'Player2_AliveUnits']]\n",
    "y = nearest_rows['Winner']\n",
    "nearest_rows.sample(5, random_state=42)\n",
    "X.sample(50, random_state=42).to_csv(\"testing_simple.csv\", index=False)\n",
    "y.sample(50, random_state=42).to_csv(\"testing_simple_y.csv\", index=False)\n",
    "\n",
    "def testing_prediction(per):\n",
    "    # last_rows = data.groupby('ReplayID').tail(70).groupby('ReplayID').head(1)\n",
    "\n",
    "    # Calculate the 80th percentile of the 'Frame' column within each group of 'ReplayID'\n",
    "    percentile_80_grouped = data.groupby('ReplayID')['Frame'].quantile(per)\n",
    "\n",
    "    # Define a function to find the row with the closest 'Frame' value to the 80th percentile within each group\n",
    "    def find_nearest_row(group):\n",
    "        nearest_index = (group['Frame'] - percentile_80_grouped[group.name]).abs().idxmin()\n",
    "        return group.loc[[nearest_index]]\n",
    "\n",
    "    # Apply the function to each group of 'ReplayID' and concatenate the results\n",
    "    nearest_rows = data.groupby('ReplayID', group_keys=False).apply(find_nearest_row)\n",
    "\n",
    "    label_encoders = {}\n",
    "\n",
    "    for column in ['ReplayID', 'Player1_Race', 'Player2_Race', 'MapName']:\n",
    "        label_encoders[column] = LabelEncoder()\n",
    "        nearest_rows[column] = label_encoders[column].fit_transform(nearest_rows[column])\n",
    "\n",
    "    # Reset the index if needed\n",
    "    nearest_rows.reset_index(drop=True, inplace=True)\n",
    "    # Define features (X) and target variable (y)\n",
    "    X = nearest_rows[['MapName','MapWidth', 'MapHeight', 'Player1_EAPM', 'Player1_ECmdCount', 'Player1_Race', 'Player2_EAPM', 'Player2_ECmdCount', 'Player2_Race', 'Player1_TotalUnits', 'Player1_AliveUnits', 'Player2_TotalUnits', 'Player2_AliveUnits']]\n",
    "    y = nearest_rows['Winner']\n",
    "\n",
    "    X_train, X_test, y_train, y_test = train_test_split(X, y, test_size=0.3, random_state=1) # 70% training and 30% test\n",
    "\n",
    "    # Initialize the RandomForestClassifier (you can choose other classifiers as well)\n",
    "    clf = RandomForestClassifier()\n",
    "\n",
    "    # Train the model\n",
    "    clf.fit(X_train, y_train)\n",
    "\n",
    "    # Make predictions on the test set\n",
    "    y_pred = clf.predict(X_test)\n",
    "\n",
    "    # Evaluate the model\n",
    "    accuracy = accuracy_score(y_test, y_pred)\n",
    "    # print(f'Accuracy: {accuracy:.2f}')\n",
    "    y_test.to_numpy().flatten()\n",
    "    pred_test = pd.read_csv('testing_simple.csv')\n",
    "    y_pred = clf.predict(pred_test)\n",
    "    y_test = pd.read_csv('testing_simple_y.csv').to_numpy().flatten()\n",
    "    score = accuracy_score(y_test, y_pred)\n",
    "    print(\"Game Quantile: \",per, \" Accuracy:\", score)\n",
    "\n",
    "for i in range(10, 110, 10):\n",
    "    testing_prediction(i / 100)"
   ]
  },
  {
   "cell_type": "markdown",
   "metadata": {},
   "source": [
    "# Time based prediction"
   ]
  },
  {
   "cell_type": "code",
   "execution_count": null,
   "metadata": {},
   "outputs": [
    {
     "name": "stdout",
     "output_type": "stream",
     "text": [
      "Game Progressed Minutes:  0  Accuracy: 0.62\n",
      "Game Progressed Minutes:  1  Accuracy: 0.64\n",
      "Game Progressed Minutes:  2  Accuracy: 0.72\n",
      "Game Progressed Minutes:  3  Accuracy: 0.6\n",
      "Game Progressed Minutes:  4  Accuracy: 0.78\n",
      "Game Progressed Minutes:  5  Accuracy: 0.7\n",
      "Game Progressed Minutes:  6  Accuracy: 0.64\n",
      "Game Progressed Minutes:  7  Accuracy: 0.74\n",
      "Game Progressed Minutes:  8  Accuracy: 0.66\n",
      "Game Progressed Minutes:  9  Accuracy: 0.74\n",
      "Game Progressed Minutes:  10  Accuracy: 0.84\n",
      "Game Progressed Minutes:  11  Accuracy: 0.84\n",
      "Game Progressed Minutes:  12  Accuracy: 0.8\n",
      "Game Progressed Minutes:  13  Accuracy: 0.84\n",
      "Game Progressed Minutes:  14  Accuracy: 0.82\n",
      "Game Progressed Minutes:  15  Accuracy: 0.82\n",
      "Game Progressed Minutes:  16  Accuracy: 0.82\n",
      "Game Progressed Minutes:  17  Accuracy: 0.78\n",
      "Game Progressed Minutes:  18  Accuracy: 0.84\n",
      "Game Progressed Minutes:  19  Accuracy: 0.86\n",
      "Game Progressed Minutes:  20  Accuracy: 0.78\n",
      "Game Progressed Minutes:  21  Accuracy: 0.88\n",
      "Game Progressed Minutes:  22  Accuracy: 0.78\n",
      "Game Progressed Minutes:  23  Accuracy: 0.82\n",
      "Game Progressed Minutes:  24  Accuracy: 0.78\n",
      "Game Progressed Minutes:  25  Accuracy: 0.78\n",
      "Game Progressed Minutes:  26  Accuracy: 0.8\n",
      "Game Progressed Minutes:  27  Accuracy: 0.78\n",
      "Game Progressed Minutes:  28  Accuracy: 0.8\n",
      "Game Progressed Minutes:  29  Accuracy: 0.8\n",
      "Game Progressed Minutes:  30  Accuracy: 0.76\n",
      "Game Progressed Minutes:  31  Accuracy: 0.8\n",
      "Game Progressed Minutes:  32  Accuracy: 0.84\n",
      "Game Progressed Minutes:  33  Accuracy: 0.86\n",
      "Game Progressed Minutes:  34  Accuracy: 0.84\n"
     ]
    }
   ],
   "source": [
    "# Load the data\n",
    "data = pd.read_csv('All/StarCraft_Combined_Dataset.csv')  # Replace with your actual file path\n",
    "\n",
    "# Assuming combined_data is your DataFrame\n",
    "data = data.drop(data[data['Winner'] == 0].index)\n",
    "# Assuming df is your DataFrame and 'ReplayID' is the column to be encoded\n",
    "label_encoder = LabelEncoder()\n",
    "\n",
    "\n",
    "# convert 1 to 0 and 2 to 1\n",
    "data['Winner'] = data['Winner'].replace(1, 0)\n",
    "data['Winner'] = data['Winner'].replace(2, 1)\n",
    "\n",
    "# last_rows = data.groupby('ReplayID').tail(70).groupby('ReplayID').head(1)\n",
    "\n",
    "# Calculate the 80th percentile of the 'Frame' column within each group of 'ReplayID'\n",
    "percentile_80_grouped = data.groupby('ReplayID')['Frame'].quantile(0.6)\n",
    "\n",
    "# Define a function to find the row with the closest 'Frame' value to the 80th percentile within each group\n",
    "def find_nearest_row(group):\n",
    "    nearest_index = (group['Frame'] - percentile_80_grouped[group.name]).abs().idxmin()\n",
    "    return group.loc[[nearest_index]]\n",
    "\n",
    "# Apply the function to each group of 'ReplayID' and concatenate the results\n",
    "nearest_rows = data.groupby('ReplayID', group_keys=False).apply(find_nearest_row)\n",
    "\n",
    "label_encoders = {}\n",
    "\n",
    "for column in ['ReplayID', 'Player1_Race', 'Player2_Race', 'MapName']:\n",
    "    label_encoders[column] = LabelEncoder()\n",
    "    nearest_rows[column] = label_encoders[column].fit_transform(nearest_rows[column])\n",
    "\n",
    "# Reset the index if needed\n",
    "nearest_rows.reset_index(drop=True, inplace=True)\n",
    "\n",
    "# Define features (X) and target variable (y)\n",
    "X = nearest_rows[['MapName','MapWidth', 'MapHeight', 'Player1_EAPM', 'Player1_ECmdCount', 'Player1_Race', 'Player2_EAPM', 'Player2_ECmdCount', 'Player2_Race', 'Player1_TotalUnits', 'Player1_AliveUnits', 'Player2_TotalUnits', 'Player2_AliveUnits']]\n",
    "y = nearest_rows['Winner']\n",
    "nearest_rows.sample(5, random_state=42)\n",
    "X.sample(50, random_state=42).to_csv(\"testing_simple.csv\", index=False)\n",
    "y.sample(50, random_state=42).to_csv(\"testing_simple_y.csv\", index=False)\n",
    "\n",
    "def testing_prediction(per):\n",
    "    # last_rows = data.groupby('ReplayID').tail(70).groupby('ReplayID').head(1)\n",
    "\n",
    "    # nearest_rows = data[data['Frame'] == 1800 * per]\n",
    "    # using .loc[row_indexer,col_indexer]\n",
    "    nearest_rows = data.loc[data.groupby('ReplayID')['Frame'].\n",
    "                            apply(lambda x: (x - 1800 * per).abs().idxmin())]\n",
    "\n",
    "    label_encoders = {}\n",
    "\n",
    "    for column in ['ReplayID', 'Player1_Race', 'Player2_Race', 'MapName']:\n",
    "        label_encoders[column] = LabelEncoder()\n",
    "        nearest_rows[column] = label_encoders[column].fit_transform(nearest_rows[column])\n",
    "\n",
    "    # Reset the index if needed\n",
    "    nearest_rows.reset_index(drop=True, inplace=True)\n",
    "    # Define features (X) and target variable (y)\n",
    "    X = nearest_rows[['MapName','MapWidth', 'MapHeight', 'Player1_EAPM', 'Player1_ECmdCount', 'Player1_Race', 'Player2_EAPM', 'Player2_ECmdCount', 'Player2_Race', 'Player1_TotalUnits', 'Player1_AliveUnits', 'Player2_TotalUnits', 'Player2_AliveUnits']]\n",
    "    y = nearest_rows['Winner']\n",
    "\n",
    "    X_train, X_test, y_train, y_test = train_test_split(X, y, test_size=0.3, random_state=1) # 70% training and 30% test\n",
    "\n",
    "    # Initialize the RandomForestClassifier (you can choose other classifiers as well)\n",
    "    clf = RandomForestClassifier()\n",
    "\n",
    "    # Train the model\n",
    "    clf.fit(X_train, y_train)\n",
    "\n",
    "    # Make predictions on the test set\n",
    "    y_pred = clf.predict(X_test)\n",
    "\n",
    "    # Evaluate the model\n",
    "    accuracy = accuracy_score(y_test, y_pred)\n",
    "    # print(f'Accuracy: {accuracy:.2f}')\n",
    "    y_test.to_numpy().flatten()\n",
    "    pred_test = pd.read_csv('testing_simple.csv')\n",
    "    y_pred = clf.predict(pred_test)\n",
    "    y_test = pd.read_csv('testing_simple_y.csv').to_numpy().flatten()\n",
    "    score = accuracy_score(y_test, y_pred)\n",
    "    print(\"Game Progressed Minutes: \",per, \" Accuracy:\", score)\n",
    "\n",
    "max_frame = data['Frame'].max() // 1800\n",
    "for i in range(0, max_frame, 1):\n",
    "    testing_prediction(i)"
   ]
  },
  {
   "cell_type": "code",
   "execution_count": null,
   "metadata": {},
   "outputs": [
    {
     "data": {
      "text/plain": [
       "Duration\n",
       "4712       47\n",
       "5236       53\n",
       "5506       55\n",
       "5634       57\n",
       "5670       57\n",
       "         ... \n",
       "44892     898\n",
       "46125     924\n",
       "49190     984\n",
       "51087    1022\n",
       "54433    1090\n",
       "Name: count, Length: 2178, dtype: int64"
      ]
     },
     "metadata": {},
     "output_type": "display_data"
    }
   ],
   "source": [
    "data['Duration'].value_counts().sort_values()"
   ]
  },
  {
   "cell_type": "markdown",
   "metadata": {},
   "source": [
    "# Top Features"
   ]
  },
  {
   "cell_type": "code",
   "execution_count": null,
   "metadata": {},
   "outputs": [],
   "source": [
    "# Load the data\n",
    "data = pd.read_csv('All/StarCraft_Combined_Dataset.csv')  # Replace with your actual file path\n",
    "\n",
    "# Assuming combined_data is your DataFrame\n",
    "data = data.drop(data[data['Winner'] == 0].index)\n",
    "# drop winner more than 2\n",
    "data = data.drop(data[data['Winner'] > 2].index)\n",
    "\n",
    "# convert 1 to 0 and 2 to 1\n",
    "data['Winner'] = data['Winner'].replace(1, 0)\n",
    "data['Winner'] = data['Winner'].replace(2, 1)"
   ]
  },
  {
   "cell_type": "code",
   "execution_count": null,
   "metadata": {},
   "outputs": [
    {
     "name": "stdout",
     "output_type": "stream",
     "text": [
      "Accuracy: 0 0.64\n",
      "Accuracy: 1 0.68\n",
      "Accuracy: 2 0.66\n",
      "Accuracy: 3 0.67\n",
      "Accuracy: 4 0.68\n",
      "Accuracy: 5 0.68\n",
      "Accuracy: 6 0.67\n",
      "Accuracy: 7 0.68\n",
      "Accuracy: 8 0.67\n",
      "Accuracy: 9 0.70\n",
      "Accuracy: 10 0.72\n",
      "Accuracy: 11 0.72\n",
      "Accuracy: 12 0.71\n",
      "Accuracy: 13 0.73\n",
      "Accuracy: 14 0.73\n",
      "Accuracy: 15 0.74\n",
      "Accuracy: 16 0.76\n",
      "Accuracy: 17 0.76\n",
      "Accuracy: 18 0.78\n",
      "Accuracy: 19 0.78\n",
      "Accuracy: 20 0.80\n",
      "Accuracy: 21 0.80\n",
      "Accuracy: 22 0.83\n",
      "Accuracy: 23 0.82\n",
      "Accuracy: 24 0.81\n",
      "Accuracy: 25 0.83\n",
      "Accuracy: 26 0.84\n",
      "Accuracy: 27 0.85\n",
      "Accuracy: 28 0.85\n",
      "Accuracy: 29 0.85\n",
      "Accuracy: 30 0.85\n",
      "Accuracy: 31 0.86\n",
      "Accuracy: 32 0.86\n",
      "Accuracy: 33 0.86\n",
      "Accuracy: 34 0.85\n"
     ]
    }
   ],
   "source": [
    "# Load the data\n",
    "data = pd.read_csv('All/StarCraft_Combined_Dataset.csv')  # Replace with your actual file path\n",
    "\n",
    "# Assuming combined_data is your DataFrame\n",
    "data = data.drop(data[data['Winner'] == 0].index)\n",
    "# Assuming df is your DataFrame and 'ReplayID' is the column to be encoded\n",
    "label_encoder = LabelEncoder()\n",
    "\n",
    "\n",
    "# convert 1 to 0 and 2 to 1\n",
    "data['Winner'] = data['Winner'].replace(1, 0)\n",
    "data['Winner'] = data['Winner'].replace(2, 1)\n",
    "\n",
    "# last_rows = data.groupby('ReplayID').tail(70).groupby('ReplayID').head(1)\n",
    "\n",
    "# Calculate the 80th percentile of the 'Frame' column within each group of 'ReplayID'\n",
    "percentile_80_grouped = data.groupby('ReplayID')['Frame'].quantile(0.5)\n",
    "\n",
    "# Define a function to find the row with the closest 'Frame' value to the 80th percentile within each group\n",
    "def find_nearest_row(group):\n",
    "    nearest_index = (group['Frame'] - percentile_80_grouped[group.name]).abs().idxmin()\n",
    "    return group.loc[[nearest_index]]\n",
    "\n",
    "# Apply the function to each group of 'ReplayID' and concatenate the results\n",
    "nearest_rows = data.groupby('ReplayID', group_keys=False).apply(find_nearest_row)\n",
    "\n",
    "label_encoders = {}\n",
    "\n",
    "for column in ['ReplayID', 'Player1_Race', 'Player2_Race', 'MapName']:\n",
    "    label_encoders[column] = LabelEncoder()\n",
    "    nearest_rows[column] = label_encoders[column].fit_transform(nearest_rows[column])\n",
    "\n",
    "# Reset the index if needed\n",
    "nearest_rows.reset_index(drop=True, inplace=True)\n",
    "\n",
    "# Define features (X) and target variable (y)\n",
    "X = nearest_rows.drop(columns=['Winner'], axis=1)\n",
    "y = nearest_rows['Winner']\n",
    "nearest_rows.sample(5, random_state=42)\n",
    "X.sample(50, random_state=42).to_csv(\"testing_simple.csv\", index=False)\n",
    "y.sample(50, random_state=42).to_csv(\"testing_simple_y.csv\", index=False)\n",
    "\n",
    "def testing_prediction(per):\n",
    "    # last_rows = data.groupby('ReplayID').tail(70).groupby('ReplayID').head(1)\n",
    "\n",
    "    # nearest_rows = data[data['Frame'] == 1800 * per]\n",
    "    # using .loc[row_indexer,col_indexer]\n",
    "    nearest_rows = data.loc[data.groupby('ReplayID')['Frame'].\n",
    "                            apply(lambda x: (x - 1800 * per).abs().idxmin())]\n",
    "\n",
    "    label_encoders = {}\n",
    "\n",
    "    for column in ['ReplayID', 'Player1_Race', 'Player2_Race', 'MapName']:\n",
    "        label_encoders[column] = LabelEncoder()\n",
    "        nearest_rows[column] = label_encoders[column].fit_transform(nearest_rows[column])\n",
    "\n",
    "    # Reset the index if needed\n",
    "    nearest_rows.reset_index(drop=True, inplace=True)\n",
    "    # Define features (X) and target variable (y)\n",
    "    X = nearest_rows.drop(columns=['Winner'], axis=1)\n",
    "    y = nearest_rows['Winner']\n",
    "\n",
    "    X_train, X_test, y_train, y_test = train_test_split(X, y, test_size=0.3, random_state=1) # 70% training and 30% test\n",
    "\n",
    "    # Initialize the RandomForestClassifier (you can choose other classifiers as well)\n",
    "    clf = RandomForestClassifier()\n",
    "\n",
    "    # Train the model\n",
    "    clf.fit(X_train, y_train)\n",
    "\n",
    "    # Make predictions on the test set\n",
    "    y_pred = clf.predict(X_test)\n",
    "\n",
    "    # Evaluate the model\n",
    "    accuracy = accuracy_score(y_test, y_pred)\n",
    "    print(f'Accuracy: {per} {accuracy:.2f}')\n",
    "    # y_test.to_numpy().flatten()\n",
    "    # pred_test = pd.read_csv('testing_simple.csv')\n",
    "    # y_pred = clf.predict(pred_test)\n",
    "    # y_test = pd.read_csv('testing_simple_y.csv').to_numpy().flatten()\n",
    "    # score = accuracy_score(y_test, y_pred)\n",
    "    # print(per, score)\n",
    "\n",
    "max_frame = data['Frame'].max() // 1800\n",
    "for i in range(0, max_frame, 1):\n",
    "    testing_prediction(i)"
   ]
  },
  {
   "cell_type": "code",
   "execution_count": null,
   "metadata": {},
   "outputs": [
    {
     "name": "stdout",
     "output_type": "stream",
     "text": [
      "Accuracy: 20 0.72\n"
     ]
    }
   ],
   "source": [
    "nearest_rows = data.loc[data.groupby('ReplayID')['Frame'].\n",
    "                        apply(lambda x: (x - 1800 * 15).abs().idxmin())]\n",
    "\n",
    "label_encoders = {}\n",
    "\n",
    "for column in ['ReplayID', 'Player1_Race', 'Player2_Race', 'MapName']:\n",
    "    label_encoders[column] = LabelEncoder()\n",
    "    nearest_rows[column] = label_encoders[column].fit_transform(nearest_rows[column])\n",
    "\n",
    "# Reset the index if needed\n",
    "nearest_rows.reset_index(drop=True, inplace=True)\n",
    "# Define features (X) and target variable (y)\n",
    "X = nearest_rows.drop(columns=['Winner'], axis=1)\n",
    "y = nearest_rows['Winner']\n",
    "\n",
    "X_train, X_test, y_train, y_test = train_test_split(X, y, test_size=0.2,random_state=101) # 70% training and 30% test\n",
    "\n",
    "# Initialize the RandomForestClassifier (you can choose other classifiers as well)\n",
    "clf = RandomForestClassifier(random_state=42)\n",
    "\n",
    "# Train the model\n",
    "clf.fit(X_train, y_train)\n",
    "\n",
    "# Make predictions on the test set\n",
    "y_pred = clf.predict(X_test)\n",
    "\n",
    "# Evaluate the model\n",
    "accuracy = accuracy_score(y_test, y_pred)\n",
    "print(f'Accuracy: {20} {accuracy:.2f}')"
   ]
  },
  {
   "cell_type": "code",
   "execution_count": null,
   "metadata": {},
   "outputs": [],
   "source": [
    "# All Correlating Features\n",
    "feature_importances = clf.feature_importances_\n",
    "feature_importances = 100.0 * (feature_importances / feature_importances.max())\n",
    "\n",
    "sorted_idx = np.argsort(feature_importances)\n",
    "pos = np.arange(sorted_idx.shape[0]) + .5\n",
    "plt.figure(figsize=(20, 70))\n",
    "plt.barh(pos, feature_importances[sorted_idx], align='center')\n",
    "plt.yticks(pos, X.columns[sorted_idx])\n",
    "plt.xlabel('Relative Importance')\n",
    "plt.title('Variable Importance')\n",
    "plt.show()"
   ]
  },
  {
   "cell_type": "code",
   "execution_count": null,
   "metadata": {},
   "outputs": [
    {
     "data": {
      "image/png": "[encoded data removed]",
      "text/plain": [
       "<Figure size 1200x800 with 1 Axes>"
      ]
     },
     "metadata": {},
     "output_type": "display_data"
    }
   ],
   "source": [
    "# give the top five important features\n",
    "feature_importances = clf.feature_importances_\n",
    "feature_importances = 100.0 * (feature_importances / feature_importances.max())\n",
    "\n",
    "sorted_idx = np.argsort(feature_importances)[-20:]  # Get the indices of the top 10 features\n",
    "pos = np.arange(sorted_idx.shape[0]) + .5\n",
    "\n",
    "# Plot only the top 10 features\n",
    "plt.figure(figsize=(12, 8))\n",
    "plt.barh(pos, feature_importances[sorted_idx], align='center')\n",
    "plt.yticks(pos, X.columns[sorted_idx])\n",
    "plt.xlabel('Relative Importance')\n",
    "plt.title('Top 20 Variable Importance')\n",
    "plt.show()"
   ]
  },
  {
   "cell_type": "code",
   "execution_count": null,
   "metadata": {},
   "outputs": [
    {
     "name": "stdout",
     "output_type": "stream",
     "text": [
      "Player2_AliveUnits                100.000000\n",
      "Player1_SupplyTotal                97.132533\n",
      "Player1_AliveUnits                 89.972358\n",
      "Player2_SupplyTotal                79.340988\n",
      "Player2_SupplyUsed                 76.086743\n",
      "                                     ...    \n",
      "Player2_Moebius Reactor_Level       0.000000\n",
      "Player2_Colossus Reactor_Level      0.000000\n",
      "Player2_Alive_Protoss Archon        0.000000\n",
      "Player2_Caduceus Reactor_Level      0.000000\n",
      "Player2_Alive_Zerg Broodling        0.000000\n",
      "Length: 348, dtype: float64\n"
     ]
    }
   ],
   "source": [
    "myClassifiers = pd.Series(feature_importances, index=X_train.columns)\n",
    "print(myClassifiers.sort_values(ascending=False))\n"
   ]
  },
  {
   "cell_type": "markdown",
   "metadata": {},
   "source": [
    "# Random Forest\n",
    "\n",
    "### Simple Model"
   ]
  },
  {
   "cell_type": "code",
   "execution_count": null,
   "metadata": {},
   "outputs": [],
   "source": [
    "# Load the data\n",
    "data = pd.read_csv('All/StarCraft_Combined_Dataset.csv')  # Replace with your actual file path\n",
    "\n",
    "# Assuming combined_data is your DataFrame\n",
    "data = data.drop(data[data['Winner'] == 0].index)\n",
    "# Assuming df is your DataFrame and 'ReplayID' is the column to be encoded\n",
    "label_encoder = LabelEncoder()\n",
    "# drop winner more than 2\n",
    "data = data.drop(data[data['Winner'] > 2].index)\n",
    "\n",
    "# convert 1 to 0 and 2 to 1\n",
    "data['Winner'] = data['Winner'].replace(1, 0)\n",
    "data['Winner'] = data['Winner'].replace(2, 1)\n",
    "\n",
    "# last_rows = data.groupby('ReplayID').tail(70).groupby('ReplayID').head(1)\n",
    "\n",
    "nearest_rows = data.loc[data.groupby('ReplayID')['Frame'].\n",
    "                        apply(lambda x: (x - 1800 * 16).abs().idxmin())]\n",
    "\n",
    "label_encoders = {}\n",
    "\n",
    "for column in ['ReplayID', 'Player1_Race', 'Player2_Race', 'MapName']:\n",
    "    label_encoders[column] = LabelEncoder()\n",
    "    nearest_rows[column] = label_encoders[column].fit_transform(nearest_rows[column])\n",
    "\n",
    "# Reset the index if needed\n",
    "nearest_rows.reset_index(drop=True, inplace=True)"
   ]
  },
  {
   "cell_type": "code",
   "execution_count": null,
   "metadata": {},
   "outputs": [
    {
     "name": "stdout",
     "output_type": "stream",
     "text": [
      "Accuracy: 20 0.83\n"
     ]
    }
   ],
   "source": [
    "# Define features (X) and target variable (y)\n",
    "X = nearest_rows[[\"Player1_Race\",\"Player2_Race\",\"Player1_AliveUnits\",\"Player2_AliveUnits\",\"Player1_SupplyUsed\",\"Player2_SupplyUsed\",\"Player1_Gas\",\"Player2_Gas\", \"Player1_Minerals\", \"Player2_Minerals\"]]\n",
    "y = nearest_rows['Winner']\n",
    "\n",
    "X_train, X_test, y_train, y_test = train_test_split(X, y, test_size=0.2, random_state=101) # 70% training and 30% test\n",
    "\n",
    "# Initialize the RandomForestClassifier (you can choose other classifiers as well)\n",
    "clf = RandomForestClassifier(random_state=42)\n",
    "\n",
    "# Train the model\n",
    "clf.fit(X_train, y_train)\n",
    "\n",
    "# Make predictions on the test set\n",
    "y_pred = clf.predict(X_test)\n",
    "\n",
    "# Evaluate the model\n",
    "accuracy = accuracy_score(y_test, y_pred)\n",
    "print(f'Accuracy: {20} {accuracy:.2f}')"
   ]
  },
  {
   "cell_type": "code",
   "execution_count": null,
   "metadata": {},
   "outputs": [
    {
     "name": "stdout",
     "output_type": "stream",
     "text": [
      "Requirement already satisfied: joblib in c:\\users\\abhin\\anaconda3\\envs\\developmentenv\\lib\\site-packages (1.2.0)\n",
      "Note: you may need to restart the kernel to use updated packages.\n"
     ]
    }
   ],
   "source": [
    "%pip install joblib"
   ]
  },
  {
   "cell_type": "code",
   "execution_count": null,
   "metadata": {},
   "outputs": [
    {
     "data": {
      "text/plain": [
       "['simple_random_forest_model.joblib']"
      ]
     },
     "metadata": {},
     "output_type": "display_data"
    }
   ],
   "source": [
    "from joblib import dump, load\n",
    "\n",
    "dump(clf, 'simple_random_forest_model.joblib') \n"
   ]
  },
  {
   "cell_type": "markdown",
   "metadata": {},
   "source": [
    "### Game State Predictor"
   ]
  },
  {
   "cell_type": "code",
   "execution_count": null,
   "metadata": {},
   "outputs": [],
   "source": [
    "# Load the data\n",
    "data = pd.read_csv('All/StarCraft_Combined_Dataset.csv')  # Replace with your actual file path\n",
    "\n",
    "# Assuming combined_data is your DataFrame\n",
    "data = data.drop(data[data['Winner'] == 0].index)\n",
    "# Assuming df is your DataFrame and 'ReplayID' is the column to be encoded\n",
    "label_encoder = LabelEncoder()\n",
    "# drop winner more than 2\n",
    "data = data.drop(data[data['Winner'] > 2].index)\n",
    "\n",
    "# convert 1 to 0 and 2 to 1\n",
    "data['Winner'] = data['Winner'].replace(1, 0)\n",
    "data['Winner'] = data['Winner'].replace(2, 1)\n",
    "\n",
    "# last_rows = data.groupby('ReplayID').tail(70).groupby('ReplayID').head(1)\n",
    "\n",
    "nearest_rows = data.loc[data.groupby('ReplayID')['Frame'].\n",
    "                        apply(lambda x: (x - 1800 * 16).abs().idxmin())]\n",
    "\n",
    "label_encoders = {}\n",
    "\n",
    "for column in ['ReplayID', 'Player1_Race', 'Player2_Race', 'MapName']:\n",
    "    label_encoders[column] = LabelEncoder()\n",
    "    nearest_rows[column] = label_encoders[column].fit_transform(nearest_rows[column])\n",
    "\n",
    "# Reset the index if needed\n",
    "nearest_rows.reset_index(drop=True, inplace=True)\n",
    "\n"
   ]
  },
  {
   "cell_type": "code",
   "execution_count": null,
   "metadata": {},
   "outputs": [
    {
     "name": "stdout",
     "output_type": "stream",
     "text": [
      "Accuracy: 0.74\n"
     ]
    }
   ],
   "source": [
    "# Define features (X) and target variable (y)\n",
    "X = nearest_rows[['Player1_Race','Player2_Race','MapName','MapWidth', 'MapHeight', 'Player1_EAPM', 'Player2_EAPM', 'Player1_ECmdCount', 'Player2_ECmdCount', 'Player1_TotalUnits', 'Player2_TotalUnits', 'Player1_AliveUnits', 'Player2_AliveUnits']]\n",
    "y = nearest_rows['Winner']\n",
    "X_train, X_test, y_train, y_test = train_test_split(X, y, test_size=0.2, random_state=42) # 70% training and 30% test\n",
    "from sklearn.metrics import accuracy_score, classification_report\n",
    "\n",
    "clf = RandomForestClassifier()\n",
    "\n",
    "# Train the model\n",
    "clf.fit(X_train, y_train)\n",
    "\n",
    "# Make predictions on the test set\n",
    "y_pred = clf.predict(X_test)\n",
    "\n",
    "# Evaluate the model\n",
    "accuracy = accuracy_score(y_test, y_pred)\n",
    "print(f'Accuracy: {accuracy:.2f}')"
   ]
  },
  {
   "cell_type": "code",
   "execution_count": null,
   "metadata": {},
   "outputs": [
    {
     "data": {
      "text/plain": [
       "['gameState_random_forest_model.joblib']"
      ]
     },
     "metadata": {},
     "output_type": "display_data"
    }
   ],
   "source": [
    "from joblib import dump, load\n",
    "\n",
    "dump(clf, 'gameState_random_forest_model.joblib') \n"
   ]
  },
  {
   "cell_type": "code",
   "execution_count": null,
   "metadata": {},
   "outputs": [],
   "source": [
    "nearest_rows['MapName_decoded'] = label_encoders['MapName'].inverse_transform(nearest_rows['MapName'])"
   ]
  },
  {
   "cell_type": "code",
   "execution_count": null,
   "metadata": {},
   "outputs": [],
   "source": [
    "# give dictionary of map names encoed and its decoded names\n",
    "map_names = nearest_rows[[\"MapName\", \"MapName_decoded\"]]\n",
    "\n",
    "map_names = map_names.drop_duplicates()\n",
    "map_names.set_index('MapName', inplace=True)"
   ]
  },
  {
   "cell_type": "code",
   "execution_count": null,
   "metadata": {},
   "outputs": [
    {
     "data": {
      "text/plain": [
       "{'MapName_decoded': {0: '\\x01(4)\\x03NsP Clan \\x07Lost Temple',\n",
       "  1: '\\x01Neo \\x06Vertigo',\n",
       "  2: '\\x01sG Vertigo',\n",
       "  3: '\\x02G\\x06orky \\x02I\\x06sland',\n",
       "  4: '\\x02G\\x06orky \\x02P\\x06ark',\n",
       "  5: '\\x03Another \\x07Day',\n",
       "  6: '\\x03B\\x04yzantium \\x02II \\x052.2',\n",
       "  7: '\\x03B\\x04yzantium \\x051.0',\n",
       "  8: '\\x03Circuit Breakers \\x051.0',\n",
       "  9: '\\x03Gaia 1.0',\n",
       "  10: '\\x03Guillotine',\n",
       "  11: '\\x03KiSaDan\\x04T\\x07em\\x01p\\x07le\\x01',\n",
       "  12: '\\x03Korhal \\x06of \\x07Ceres',\n",
       "  13: '\\x03L\\x04o\\x03s\\x04t \\x03Te\\x03m\\x04p\\x03l\\x04e \\x04SaSi',\n",
       "  14: '\\x03L\\x04o\\x03s\\x04t \\x03Te\\x03m\\x04p\\x03l\\x04e \\x06[WHI',\n",
       "  15: '\\x03L\\x04una',\n",
       "  16: '\\x03L\\x04una \\x06the \\x07Final',\n",
       "  17: '\\x03Loki \\x05II',\n",
       "  18: '\\x03Lost \\x07Temple \\x04- JoyDoM',\n",
       "  19: '\\x03Lu\\x04na',\n",
       "  20: '\\x03Monty \\x02Hall\\x06_SE \\x052.1',\n",
       "  21: '\\x03Monty \\x02Hall \\x051.1',\n",
       "  22: '\\x03N\\x04eo \\x06Aztec\\x052.0',\n",
       "  23: '\\x03Neo\\x06MoonGlaive\\x052.1',\n",
       "  24: '\\x03Neo \\x04Bifrost',\n",
       "  25: '\\x03Neo \\x06Silent \\x04Vortex',\n",
       "  26: '\\x03Rush Hour 3.03',\n",
       "  27: '\\x03T\\x04h\\x04e \\x03L\\x04o\\x03s\\x04t \\x03Te\\x03m\\x04p\\x03l\\x04',\n",
       "  28: '\\x03T\\x04he \\x03L\\x04ost \\x03T\\x04emple\\x06\\x02 [g',\n",
       "  29: '\\x03T\\x06roy \\x051.0',\n",
       "  30: '\\x03Tau \\x06Cross \\x051.1',\n",
       "  31: '\\x03The \\x06Lost \\x04T\\x07em\\x01p\\x07le\\x01_\\x03Ch',\n",
       "  32: '\\x03The \\x06Lost \\x04T\\x07em\\x01p\\x07le\\x01_\\x03Ga',\n",
       "  33: \"\\x03Un'\\x06Goro \\x07Crater \\x051.2\",\n",
       "  34: '\\x03WCG_Longinus (ob)',\n",
       "  35: '\\x03X-L_\\x06LunaTheFinal\\x05_2.1',\n",
       "  36: '\\x03제 1회 \\x07B\\x06S\\x03L \\x05파이썬',\n",
       "  37: '\\x03청풍명월 \\x050.93',\n",
       "  38: '\\x04(2)Neo \\x03LiBerTy',\n",
       "  39: '\\x04Acheron',\n",
       "  40: '\\x04Andromeda \\x051.0',\n",
       "  41: '\\x04B\\x01litz',\n",
       "  42: '\\x04B\\x01litz X',\n",
       "  43: '\\x04Blue \\x07S\\x06torm \\x051.1',\n",
       "  44: '\\x04Blue \\x07S\\x06torm \\x051.16',\n",
       "  45: '\\x04Blue \\x07S\\x06torm \\x051.2',\n",
       "  46: '\\x04Blue \\x07S\\x06torm \\x051.2 \\x06 with ',\n",
       "  47: '\\x04Chow \\x03Chow',\n",
       "  48: '\\x04Dahlia \\x06of \\x03Jungle',\n",
       "  49: '\\x04Enter the dragon2004',\n",
       "  50: '\\x04Gaema \\x05Gowon',\n",
       "  51: '\\x04Hitch\\x03hiker\\x051.0',\n",
       "  52: '\\x04Hitch\\x03hiker\\x051.1',\n",
       "  53: '\\x04M\\x03E\\x04R\\x03C\\x04U\\x03R\\x04Y',\n",
       "  54: '\\x04M\\x06atch\\x04Point \\x050.91',\n",
       "  55: '\\x04M\\x06atch\\x04Point \\x051.1',\n",
       "  56: '\\x04M\\x06atch\\x04Point \\x051.2',\n",
       "  57: '\\x04M\\x06atch\\x04Point \\x051.3',\n",
       "  58: '\\x04NSL_\\x07Ride \\x06of Valkyries',\n",
       "  59: '\\x04Neo\\x07Medusa\\x052.1',\n",
       "  60: '\\x04Neo\\x07Medusa\\x052.2',\n",
       "  61: '\\x04Neo \\x06The Lost Temple',\n",
       "  62: '\\x04Neo \\x07F\\x05orte 2.1',\n",
       "  63: '\\x04Neo Hall of Valhalla',\n",
       "  64: '\\x04Para\\x06doxxx',\n",
       "  65: '\\x04Para\\x06doxxx \\x07ll',\n",
       "  66: '\\x04S\\x02i\\x03G\\x07L\\x06ost \\x07T\\x06emple \\x02Gam',\n",
       "  67: '\\x04SCCL\\x06_S1_\\x07815\\x05(o)',\n",
       "  68: '\\x04SCCL\\x06_S1_\\x07Estrella\\x05(o)',\n",
       "  69: '\\x04SCCL\\x06_S1_\\x07Gaia\\x05(o)',\n",
       "  70: '\\x04SCCL\\x06_S1_\\x07R_-_Point',\n",
       "  71: '\\x04SCCL\\x06_S1_\\x07R_-_Point\\x05(o)',\n",
       "  72: '\\x04SCCL\\x06_S1_\\x07R_o_Valks\\x05(o)',\n",
       "  73: '\\x04SCCL\\x06_S1_\\x07Rush_Hour\\x05(o)',\n",
       "  74: '\\x04T\\x03he \\x04E\\x03ye',\n",
       "  75: '\\x04T\\x06h\\x03e \\x04L\\x06o\\x03st \\x04T\\x06e\\x03mple \\x07',\n",
       "  76: '\\x04The Bifrost',\n",
       "  77: '\\x04The Lost Temple\\x06_\\x07Nal',\n",
       "  78: '\\x04The Lost Temple \\x06AKUTA',\n",
       "  79: '\\x04The Lost Temple \\x07Sharky',\n",
       "  80: '\\x04The Lost Temple \\x07[\\x06fOu\\x07] ',\n",
       "  81: '\\x04The Lost Temple_Gamei\\x06(\\x07O',\n",
       "  82: '\\x04[gm] \\x06투혼 \\x071.3',\n",
       "  83: '\\x04ì‹\\xa0 \\x01815 \\x052.0',\n",
       "  84: '\\x04몽\\x03환 \\x06Ⅱ \\x052.0',\n",
       "  85: '\\x04신 \\x03청풍명월 \\x052.1',\n",
       "  86: '\\x04신 \\x07단장의 \\x06능선 \\x052.1',\n",
       "  87: '\\x04은빛날개 \\x050.90',\n",
       "  88: '\\x05Forbidden Zone',\n",
       "  89: '\\x05Python 1.1',\n",
       "  90: '\\x05Python 1.2',\n",
       "  91: '\\x05Python 1.3',\n",
       "  92: '\\x05Python 1.3 \\x07with PKM ㅋ',\n",
       "  93: '\\x05팔진도 1.1',\n",
       "  94: '\\x06(2)\\x03Enter the dragon',\n",
       "  95: '\\x06815\\x04â…¢ \\x053.1',\n",
       "  96: '\\x06A\\x07byss \\x02Longinus \\x06[\\x0703\\x06]',\n",
       "  97: '\\x06A\\x07byss \\x02Tau Cross \\x06[\\x0703\\x06]',\n",
       "  98: '\\x06B\\x05e\\x06n\\x05z\\x06e\\x05n\\x06e\\x051.1',\n",
       "  99: '\\x06DTR\\x03[\\x07������ �ɼ� 1.0\\x03]\\x06A',\n",
       "  100: '\\x06DTR.\\x07X\\x06[\\x07D\\x06estinatioN]\\x07Sa',\n",
       "  101: '\\x06DTR.\\x07X \\x01[\\x04M\\x06e\\x01d\\x06u\\x04S\\x06a\\x01] \\x07',\n",
       "  102: '\\x06Gaia\\x051.0',\n",
       "  103: '\\x06Incubus \\x072004',\n",
       "  104: '\\x06Martian \\x05Cross',\n",
       "  105: '\\x06Namja \\x05Iyagi',\n",
       "  106: '\\x06Neo \\x03Baekdu Daegan \\x052.4',\n",
       "  107: '\\x06Neo \\x03Guillotine',\n",
       "  108: '\\x06Neo \\x05Forbidden Zone',\n",
       "  109: '\\x06Neo \\x07Requiem \\x052.0',\n",
       "  110: '\\x06NeoThe Lost Temple',\n",
       "  111: '\\x06Plains to Hill \\x07Desert',\n",
       "  112: '\\x06R\\x04ide of \\x06V\\x04alkyries \\x051.0',\n",
       "  113: '\\x06Silent \\x04Vortex',\n",
       "  114: '\\x06The \\x03KORHAL',\n",
       "  115: '\\x06The Fortress SE \\x052.0',\n",
       "  116: '\\x06The Lost Temple\\x04_GaMax',\n",
       "  117: '\\x06Z\\x05odiAc',\n",
       "  118: '\\x06[LoOz] \\x07\\x05LoTem\\x04\\x05 (\\x03 OB\\x05)',\n",
       "  119: '\\x06[S.G] \\x04Lost Temple',\n",
       "  120: '\\x06[SaSin] \\x07Blue Storm  \\x041.2',\n",
       "  121: '\\x06ì‹\\xa0 \\x03ë°±ë‘\\x90ëŒ€ê°„ \\x052.2',\n",
       "  122: '\\x06ì‹\\xa0 \\x03ë°±ë‘\\x90ëŒ€ê°„ \\x052.4',\n",
       "  123: '\\x06신 \\x03백두대간 \\x052.4',\n",
       "  124: '\\x06신 \\x03백두대간 \\x052.41',\n",
       "  125: '\\x06폭풍의 \\x04언덕 \\x050.95',\n",
       "  126: '\\x06폭풍의 \\x04언덕 \\x051.0',\n",
       "  127: '\\x07\\x07WGTOUR \\x01\\x07Plains to Hill',\n",
       "  128: '\\x07\\x07WGTOUR \\x01\\x07Temple WCG',\n",
       "  129: '\\x07)Is( \\x05Lost \\x03Temple\\x02\\x03',\n",
       "  130: '\\x07A\\x06rcadia',\n",
       "  131: '\\x07A\\x06rcadia II',\n",
       "  132: '\\x07Athena \\x051.0',\n",
       "  133: '\\x07BWCL S-22\\x06 Sin 815 2.0',\n",
       "  134: '\\x07C\\x06olosseum\\x050.93',\n",
       "  135: '\\x07C\\x06olosseum\\x051.0',\n",
       "  136: '\\x07CEG - \\x03L\\x04una',\n",
       "  137: '\\x07CEG - \\x06A\\x04rcadia \\x04II',\n",
       "  138: '\\x07CEG - \\x07R\\x06ush \\x04Hour \\x02III',\n",
       "  139: '\\x07Clan \\x06E\\x02v\\x06e\\x02r \\x05Lost Templ',\n",
       "  140: '\\x07Colosseum\\x06II\\x052.0',\n",
       "  141: '\\x07DAHLIA',\n",
       "  142: '\\x07DTR\\x03[\\x04Destination1.1\\x03]\\x06Ar',\n",
       "  143: '\\x07DTR.\\x02U \\x04Blue\\x02S\\x06torm \\x07[S\\x06a',\n",
       "  144: '\\x07Desert \\x06Lost Temple \\x03<ghe',\n",
       "  145: '\\x07Destination \\x051.1',\n",
       "  146: '\\x07Detonation-F',\n",
       "  147: '\\x07F\\x05orte 1.0',\n",
       "  148: '\\x07G\\x03aia \\x050.90',\n",
       "  149: '\\x07G\\x06rand\\x07L\\x06ine\\x05_SE 2.0',\n",
       "  150: '\\x07G\\x06rand\\x07L\\x06ine\\x05_SE 2.2',\n",
       "  151: '\\x07I\\x06nto \\x02The \\x07D\\x06arkness',\n",
       "  152: '\\x07IEF\\x06_\\x03BlueStorm 1.2',\n",
       "  153: '\\x07IEF\\x06_\\x03Python 1.3',\n",
       "  154: '\\x07IEF\\x06_\\x03Tau Cross 1.1',\n",
       "  155: '\\x07IEF \\x03Chupung Ryeong 2.1',\n",
       "  156: '\\x07IEST\\x04_\\x03Longinus II',\n",
       "  157: '\\x07IEST\\x04_\\x03Monty Hall 1.1',\n",
       "  158: '\\x07Into \\x06The \\x07D\\x06arkness \\x02Par',\n",
       "  159: '\\x07K\\x06atrina\\x051.3',\n",
       "  160: '\\x07K\\x06atrina_SE\\x051.90',\n",
       "  161: '\\x07K\\x06atrina_SE\\x052.0',\n",
       "  162: '\\x07L\\x05onginus',\n",
       "  163: '\\x07L\\x05onginusâ…¡',\n",
       "  164: '\\x07L\\x05onginusⅡ',\n",
       "  165: '\\x07L\\x06ost \\x07T\\x06emple \\x07SaSin \\x07X',\n",
       "  166: '\\x07LoveStarTV\\x02&\\x06SaSin \\x03Blue\\x04',\n",
       "  167: '\\x07Luna - \\x04MBCgame',\n",
       "  168: '\\x07Medusa\\x051.0',\n",
       "  169: '\\x07Medusa\\x051.1',\n",
       "  170: '\\x07Neo Legacy of Char',\n",
       "  171: '\\x07Neo Legacy of Char_OS',\n",
       "  172: '\\x07Nostalgia',\n",
       "  173: '\\x07OGCL1 -\\x04 Into the Darknes',\n",
       "  174: '\\x07Othello \\x050.991',\n",
       "  175: '\\x07Othello \\x051.1',\n",
       "  176: '\\x07Outsider \\x051.0',\n",
       "  177: '\\x07Outsider SE \\x052.0',\n",
       "  178: '\\x07Outsider SE \\x052.2',\n",
       "  179: '\\x07P\\x06lasma \\x051.0',\n",
       "  180: '\\x07PGL\\x04_\\x03Arcadia II',\n",
       "  181: '\\x07PGL\\x04_\\x03BlitzX 2.0',\n",
       "  182: '\\x07PGL\\x04_\\x03Longinus II',\n",
       "  183: '\\x07PGL\\x04_\\x03Reverse Temple',\n",
       "  184: '\\x07PLU\\x06_\\x03Andromeda 1.0',\n",
       "  185: '\\x07PLU\\x06_\\x03Arcadia II',\n",
       "  186: '\\x07PLU\\x06_\\x03Arcadia II M',\n",
       "  187: '\\x07PLU\\x06_\\x03Bakdu 2.4',\n",
       "  188: '\\x07PLU\\x06_\\x03Longinus II',\n",
       "  189: '\\x07PLU\\x06_\\x03Luna The Final',\n",
       "  190: '\\x07PLU\\x06_\\x03LunaTheFinal 2.1',\n",
       "  191: '\\x07PLU\\x06_\\x03Reverse Lost Temple',\n",
       "  192: '\\x07PLU\\x06_\\x03Rush Hour \\x053.03',\n",
       "  193: '\\x07PLU\\x06_\\x03Rush Hour 3.03',\n",
       "  194: '\\x07PLU\\x06_\\x03Sin 815',\n",
       "  195: '\\x07R\\x06ush \\x04Hour',\n",
       "  196: '\\x07R\\x06ush \\x04Hour \\x02â…¡',\n",
       "  197: '\\x07R\\x06ush \\x04Hour \\x02â…¢',\n",
       "  198: '\\x07R\\x06ush \\x04Hour \\x02Ⅱ',\n",
       "  199: '\\x07R\\x06ush \\x04Hour \\x02Ⅲ',\n",
       "  200: '\\x07R\\x06ush \\x07H\\x06our \\x053.1',\n",
       "  201: '\\x07Requiem',\n",
       "  202: '\\x07Reverse \\x04Temple \\x051.0',\n",
       "  203: '\\x07SIM \\x06K\\x03orhal of Ceres',\n",
       "  204: '\\x07STL\\x06_\\x03Arcadia II',\n",
       "  205: '\\x07STL\\x06_\\x03LunaTheFinal 2.1',\n",
       "  206: '\\x07STL\\x06_\\x03New Peaks of Baekdu',\n",
       "  207: '\\x07STL\\x06_\\x03Python 1.3',\n",
       "  208: '\\x07Sin \\x04Gaema \\x05Gowon',\n",
       "  209: '\\x07WCG \\x03A\\x04zalea \\x051.0',\n",
       "  210: '\\x07WCG \\x03G\\x06aia \\x051.0',\n",
       "  211: '\\x07WCG \\x03G\\x06aia \\x051.1',\n",
       "  212: '\\x07WCG \\x03P\\x06aranoid \\x04A\\x06ndroid ',\n",
       "  213: '\\x07WCG \\x04Estrella \\x051.0',\n",
       "  214: '\\x07[Nyx] \\x05��ȥ \\x051.3 (������)',\n",
       "  215: '\\x07[SaSin] \\x05Python 1.3 \\x06_v.D',\n",
       "  216: '\\x07luna-MBCgame',\n",
       "  217: '\\x07nG-i \\x03Lost Temple 2.3',\n",
       "  218: '\\x07nG-i \\x03Lost Temple Gamei',\n",
       "  219: '\\x07nG-i \\x03Nostalgia 1.3',\n",
       "  220: '\\x07단장의 \\x06능선 \\x051.0',\n",
       "  221: '\\x07단장의 \\x06능선 \\x051.1',\n",
       "  222: '\\x07심판의 날 \\x050.90',\n",
       "  223: '\\x07아크로 \\x050.91',\n",
       "  224: '\\x07용\\x03오\\x04름 \\x050.93',\n",
       "  225: '\\x07용\\x03오\\x04름 \\x050.95',\n",
       "  226: '\\x07태양의 제국 \\x051.3',\n",
       "  227: '\\x07투혼 \\x051.1',\n",
       "  228: '\\x07투혼 \\x051.3',\n",
       "  229: ' \\x07BKC-8 \\x06Gaia\\x051.0',\n",
       "  230: ' Rivarly_gamebugs',\n",
       "  231: '(3)Universal Tripod.(R)-KP',\n",
       "  232: '(4) Illusion',\n",
       "  233: '(4)The Lost Temple-KPGA',\n",
       "  234: '(OB)\\x04Neo \\x06The Lost Temple',\n",
       "  235: 'Asgard0.90',\n",
       "  236: 'Astral Eclipse (Ob)',\n",
       "  237: 'Avant-garde II',\n",
       "  238: 'Blade Storm',\n",
       "  239: 'CDF Enter The Dragon',\n",
       "  240: 'CDF Lost Temple - gameTV',\n",
       "  241: 'CL16 - Python 1.1 (Ob)',\n",
       "  242: 'CL18 - Nostalgia 1.3',\n",
       "  243: 'Coulee',\n",
       "  244: 'Desert FoX',\n",
       "  245: 'Dire Straits + 4 Observers',\n",
       "  246: 'Dream Tour - Temple Gamei',\n",
       "  247: 'Eldritch Lake',\n",
       "  248: 'Enmity (Ob)',\n",
       "  249: 'GGL Dahlia of Jungle',\n",
       "  250: 'GGL Lost Temple',\n",
       "  251: 'Gauntlet2003',\n",
       "  252: 'Indian Lament',\n",
       "  253: \"Jim Raynor's Memory\",\n",
       "  254: 'Jungle story',\n",
       "  255: 'King of the Abyss',\n",
       "  256: 'King of the Abyss (Ob)',\n",
       "  257: 'Longinus II',\n",
       "  258: 'MoonGlaive0.91',\n",
       "  259: 'MoonGlaive0.92',\n",
       "  260: 'MoonGlaive1.2',\n",
       "  261: 'Neo Jungle story',\n",
       "  262: 'Nightlight(Ob)',\n",
       "  263: 'P\\x06olaris\\x02Rh\\x06apsody\\x05 1.0',\n",
       "  264: 'PGT - Arcadia 1.03 [08]\\r\\x1f',\n",
       "  265: 'PGT - Arcadia II [10]',\n",
       "  266: 'PGT - Arena [06]\\r\\x1f',\n",
       "  267: 'PGT - Bifrost lll [01]\\r\\x1f',\n",
       "  268: 'PGT - Blade Storm [02]\\n\\x1f',\n",
       "  269: 'PGT - Enter the D. 2004 [0',\n",
       "  270: 'PGT - Gaia 0.90 [03]\\n\\x1f',\n",
       "  271: 'PGT - Gaia 1.0 [05]\\r\\x1f',\n",
       "  272: 'PGT - Gaia 1.0 [07]\\n\\x1f',\n",
       "  273: 'PGT - Gaia 1.0 [08]\\n\\x1f',\n",
       "  274: 'PGT - Gaia 1.0 [10]',\n",
       "  275: 'PGT - Incubus 2004 [02]\\n\\x1f',\n",
       "  276: 'PGT - Lost Temple 2.35 [01',\n",
       "  277: 'PGT - Lost Temple 2.4 [02]',\n",
       "  278: 'PGT - Lost Temple 2.4 [04]',\n",
       "  279: 'PGT - Lost Temple 2.4 [05]',\n",
       "  280: 'PGT - Luna 2.01 [02]\\n\\x1f',\n",
       "  281: 'PGT - Luna 2.01 [02]\\r\\x1f',\n",
       "  282: 'PGT - Luna The Final [03]\\r',\n",
       "  283: 'PGT - Luna The Final [04]\\n',\n",
       "  284: 'PGT - Luna The Final [05]\\n',\n",
       "  285: 'PGT - Luna The Final [05]\\r',\n",
       "  286: 'PGT - Luna The Final [06]\\n',\n",
       "  287: 'PGT - Luna The Final [06]\\r',\n",
       "  288: 'PGT - Luna The Final [07]\\n',\n",
       "  289: 'PGT - Luna The Final [07]\\r',\n",
       "  290: 'PGT - Luna the Final [08]\\r',\n",
       "  291: 'PGT - Luna the Final [09]\\r',\n",
       "  292: 'PGT - Memory Cell [10]',\n",
       "  293: 'PGT - Namja Iyagi [01]\\r\\x1f',\n",
       "  294: 'PGT - Neo Forte 2.1 [04]\\n\\x1f',\n",
       "  295: 'PGT - Neo Forte 2.1 [06]\\n\\x1f',\n",
       "  296: 'PGT - Neo Forte 2.1 [06]\\r\\x1f',\n",
       "  297: 'PGT - Neo Forte 2.1 [07]\\n\\x1f',\n",
       "  298: 'PGT - Neo Forte 2.1 [07]\\r\\x1f',\n",
       "  299: 'PGT - Neo Forte 2.1 [08]\\n\\x1f',\n",
       "  300: 'PGT - Neo Requiem 2.0 [03]',\n",
       "  301: 'PGT - Neo Requiem 2.0 [07]',\n",
       "  302: 'PGT - Nostalgia [01]\\n\\x1f',\n",
       "  303: 'PGT - Nostalgia [01]\\r\\x1f',\n",
       "  304: 'PGT - Nostalgia [02]\\n\\x1f',\n",
       "  305: 'PGT - Nostalgia [02]\\r\\x1f',\n",
       "  306: 'PGT - ParanoidAndroid1.0 [',\n",
       "  307: 'PGT - R - Point 1.0 [04]\\n\\x1f',\n",
       "  308: 'PGT - R - Point 1.0 [05]\\r\\x1f',\n",
       "  309: 'PGT - R - Point 1.0 [06]\\n\\x1f',\n",
       "  310: 'PGT - R - Point 1.0 [06]\\r\\x1f',\n",
       "  311: 'PGT - R - Point 1.0 [07]\\n\\x1f',\n",
       "  312: 'PGT - R - Point 1.0 [07]\\r\\x1f',\n",
       "  313: 'PGT - Ride of Valkyries [0',\n",
       "  314: 'PGT - Rush Hour 2.0 [05]\\n\\x1f',\n",
       "  315: 'PGT - Rush Hour 2.0 [05]\\r\\x1f',\n",
       "  316: 'PGT - Rush Hour 2.0 [06]\\n\\x1f',\n",
       "  317: 'PGT - Rush Hour 2.0 [06]\\r\\x1f',\n",
       "  318: 'PGT - Rush Hour 2.0 [07]\\n\\x1f',\n",
       "  319: 'PGT - Rush Hour 2.0 [07]\\r\\x1f',\n",
       "  320: 'PGT - Rush Hour III [08]\\n\\x1f',\n",
       "  321: 'PGT - Rush Hour III [08]\\r\\x1f',\n",
       "  322: 'PGT - Rush Hour III [09]\\n\\x1f',\n",
       "  323: 'PGT - Rush Hour III [09]\\r\\x1f',\n",
       "  324: 'PGT - Rush Hour III [10]',\n",
       "  325: 'PGT - Sin Gaema Gowon [01]',\n",
       "  326: 'Paranoid Android 1.0',\n",
       "  327: 'Plains to Hill',\n",
       "  328: 'Plains to Hill-KPGA',\n",
       "  329: 'R - \\x04Point',\n",
       "  330: 'Rivalry',\n",
       "  331: 'Rivalry - Ghemtv',\n",
       "  332: 'River of Flames',\n",
       "  333: 'Roadrunner0.91',\n",
       "  334: 'RodeoWalk Star League',\n",
       "  335: 'S ignal(Ob)',\n",
       "  336: 'Showdown',\n",
       "  337: 'Snowbound',\n",
       "  338: 'TLT - Blade Storm 1.5',\n",
       "  339: 'TLT - Blade Storm 1.5 (Ob)',\n",
       "  340: 'TLT - Isles of Siren (Ob)',\n",
       "  341: 'TLT - Lost Temple 2.4',\n",
       "  342: 'TLT - Lost Temple 2.4 (Ob)',\n",
       "  343: 'TLT - Namja Iyagi (Ob)',\n",
       "  344: 'TLT - Sin Gaema Gowon',\n",
       "  345: 'TLT - Sin Gaema Gowon (Ob)',\n",
       "  346: 'Tau Cross 1.1',\n",
       "  347: 'The Lord of The Ring',\n",
       "  348: 'The Lost Temple',\n",
       "  349: 'The Lost Temple Gamei',\n",
       "  350: 'The Lost Temple game-i\\x04(ob',\n",
       "  351: 'The Lost Temple_\\x07K\\x02T\\x07F\\x06.\\x02s',\n",
       "  352: 'The Lost Temple_(R)',\n",
       "  353: 'The Lost Temple_Gamei',\n",
       "  354: 'The Lost Temple_Itv Game',\n",
       "  355: 'The Lost Temple_gembc',\n",
       "  356: 'WCG Neo Jungle story V2',\n",
       "  357: 'WCG The Lost Temple V2',\n",
       "  358: 'WCG_Neo Hall of Valhalla',\n",
       "  359: 'WCG_Neo Hall of Valhalla \\x05',\n",
       "  360: 'WCG_Neo Jungle story',\n",
       "  361: 'WCG_Neo Legacy of Char',\n",
       "  362: 'WCG_Rivalry',\n",
       "  363: 'WCG_The Lost Temple',\n",
       "  364: 'WGT10 - Bifrost lll (Ob)',\n",
       "  365: 'WGT10 - Enter the D 2004 (',\n",
       "  366: 'WGT10 - Incubus 2004 (Ob)',\n",
       "  367: 'WGT10 - Luna (Ob)',\n",
       "  368: 'WGT10 - Martian Cross (Ob)',\n",
       "  369: 'WGT10 - Mercury 1.0 (Ob)',\n",
       "  370: 'WGT10 - Namja Iyagi (Ob)',\n",
       "  371: 'WGT10 - Nostalgia 1.3 B (O',\n",
       "  372: 'WGT10 - Parallel Lines 3',\n",
       "  373: 'WGT10 - Sin Gaema Gowon B ',\n",
       "  374: 'WGT10 - Xeno Sky 1.0 (Ob)',\n",
       "  375: 'WGT10 -- Lost Temple 2.4',\n",
       "  376: 'WGT10 -- Lost Temple 2.4 (',\n",
       "  377: 'WGT11 - Luna (Ob)',\n",
       "  378: 'WGT11 - Martian Cross',\n",
       "  379: 'WGT11 - Nostalgia 1.3',\n",
       "  380: 'WGT11 - Nostalgia 1.3 B (O',\n",
       "  381: 'WGT11 - Sin Gaema Gowon B ',\n",
       "  382: 'WGT11 - Xeno Sky 1.0 (Ob)',\n",
       "  383: 'WGT11 -- Lost Temple 2.4',\n",
       "  384: 'WGT11 -- Lost Temple 2.4 (',\n",
       "  385: 'WGT11 -- Lost Temple Gamei',\n",
       "  386: 'WGT12 - Coulee (Ob)',\n",
       "  387: 'WGT12 - Desolate Platform ',\n",
       "  388: 'WGT12 - Estrella 0.90',\n",
       "  389: 'WGT12 - Estrella 0.90 (Ob)',\n",
       "  390: 'WGT12 - Forte 1.0 (Ob)',\n",
       "  391: 'WGT12 - Gaia 0.90',\n",
       "  392: 'WGT12 - Gaia 0.90 (Ob)',\n",
       "  393: 'WGT12 - Luna The Final (Ob',\n",
       "  394: 'WGT12 - Nostalgia 1.3 B (O',\n",
       "  395: 'WGT12 - Raid - Assault 2.0',\n",
       "  396: 'WGT12 - Sin Gaema Gowon B ',\n",
       "  397: 'WGT12 -- Lost Temple 2.4',\n",
       "  398: 'WGT12 -- Lost Temple 2.4 (',\n",
       "  399: 'WGT12 -- Lost Temple Gamei',\n",
       "  400: 'WGT13 - Azalea 1.0 (Ob)',\n",
       "  401: 'WGT13 - Blade Storm 1.5 (O',\n",
       "  402: 'WGT13 - Blitz X 2.0',\n",
       "  403: 'WGT13 - Enmity 1.1',\n",
       "  404: 'WGT13 - Estrella 1.0',\n",
       "  405: 'WGT13 - Gaia 1.0 (Ob)',\n",
       "  406: 'WGT13 - IntoTheDarkness II',\n",
       "  407: 'WGT13 - Longinus',\n",
       "  408: 'WGT13 - Longinus 2.0',\n",
       "  409: 'WGT13 - Longinus 2.0 (Ob)',\n",
       "  410: 'WGT13 - Luna the Final (Ob',\n",
       "  411: 'WGT13 - Neo Forte 2.1',\n",
       "  412: 'WGT13 - Nostalgia 1.3 (Ob)',\n",
       "  413: 'WGT13 - ParanoidAndroid1.0',\n",
       "  414: 'WGT13 - PeaksOfBaekdu 2.2',\n",
       "  415: 'WGT13 - R - Point 1.0',\n",
       "  416: 'WGT13 - Reverse Temple 1.0',\n",
       "  417: 'WGT13 - Ride of Valkyries ',\n",
       "  418: 'WGT13 - Rush Hour 2.0 (Ob)',\n",
       "  419: 'WGT13 - Rush Hour III',\n",
       "  420: 'WGT13 - Rush Hour III (Ob)',\n",
       "  421: 'WGT13 - Tau Cross 1.1',\n",
       "  422: 'WGT13 - Tau Cross 1.1 (Ob)',\n",
       "  423: 'WGT13 -- Lost Temple 2.4 (',\n",
       "  424: 'WGT14 - Arcadia II (Ob)',\n",
       "  425: 'WGT14 - Blitz X 2.0 (Ob)',\n",
       "  426: 'WGT14 - Blue Storm 1.1 (Ob',\n",
       "  427: 'WGT14 - Fantasy 1.1 (Ob)',\n",
       "  428: 'WGT14 - Gaia 1.0 (Ob)',\n",
       "  429: 'WGT14 - Lost Temple 2.4 (O',\n",
       "  430: 'WGT14 - ParanoidAndroid1.0',\n",
       "  431: 'WGT14 - PeaksOfBaekdu 2.4 ',\n",
       "  432: 'WGT14 - Python 1.3 (Ob)',\n",
       "  433: 'WGT14 - Tau Cross 1.1 (Ob)',\n",
       "  434: 'WGT14 - ZodiAc 1.01',\n",
       "  435: 'WGT14 - ZodiAc 1.01 (Ob)',\n",
       "  436: 'WGT9 - Bifrost lll (Ob)',\n",
       "  437: 'WGT9 - Dahlia of Jungle',\n",
       "  438: 'WGT9 - Dahlia of Jungle (O',\n",
       "  439: 'WGT9 - Gorky Island (Ob)',\n",
       "  440: 'WGT9 - Into the Darkness 1',\n",
       "  441: 'WGT9 - Korhal of Ceres',\n",
       "  442: 'WGT9 - Lost Temple 2.3',\n",
       "  443: 'WGT9 - Lost Temple 2.3 (Ob',\n",
       "  444: 'WGT9 - Luna (Ob)',\n",
       "  445: 'WGT9 - Neo Forbidden Zone ',\n",
       "  446: 'WGT9 - Neo Lost Temple',\n",
       "  447: 'WGT9 - Neo Lost Temple (Ob',\n",
       "  448: 'WGT9 - Nostalgia B (Ob)',\n",
       "  449: 'WGT9 - Xeno Sky (Ob)',\n",
       "  450: 'WGTOUR (2) Neo Valhalla',\n",
       "  451: 'WGTOUR (2) Plains to Hill',\n",
       "  452: 'WGTOUR (3) Neo Legacy of C',\n",
       "  453: 'WGTOUR (3) Neo Valhalla',\n",
       "  454: 'WGTOUR (3) Temple Gamei',\n",
       "  455: 'WGTOUR (4) Neo Jungle Stor',\n",
       "  456: 'WGTour (4) Plains to Hill',\n",
       "  457: 'WGTour (4) Temple Gamei',\n",
       "  458: 'WGTour (5) Enter The Drago',\n",
       "  459: 'WGTour (5) Gaema Gowon B',\n",
       "  460: 'WGTour (5) Gaema Gowon B (',\n",
       "  461: 'WGTour (5) JR Memory Jungl',\n",
       "  462: 'WGTour (5) Lost Temple 2.1',\n",
       "  463: 'WGTour (5) Nostalgia B (Ob',\n",
       "  464: 'WGTour (6) DAHLIA',\n",
       "  465: 'WGTour (6) Enter the drago',\n",
       "  466: 'WGTour (6) Gaema Gowon B (',\n",
       "  467: 'WGTour (6) Legacy of Char ',\n",
       "  468: 'WGTour (6) Lost Temple 2.2',\n",
       "  469: 'WGTour (6) Lost Temple_Gam',\n",
       "  470: 'WGTour (6) Neo Lost Temple',\n",
       "  471: 'WGTour (6) Nostalgia B (Ob',\n",
       "  472: 'WGTour (6) Plains to Hill ',\n",
       "  473: 'WGTour (6) Vertigo (Ob)',\n",
       "  474: 'WGTour (7) Detonation (Ob)',\n",
       "  475: 'WGTour (7) Enter the D 200',\n",
       "  476: 'WGTour (7) Enter the drago',\n",
       "  477: 'WGTour (7) Gaema Gowon B',\n",
       "  478: 'WGTour (7) Lost Temple 2.3',\n",
       "  479: 'WGTour (7) Lost Temple_Gam',\n",
       "  480: 'WGTour (7) Neo Forbidden Z',\n",
       "  481: 'WGTour (7) Neo Guillotine ',\n",
       "  482: 'WGTour (7) Neo Lost Temple',\n",
       "  483: 'WGTour (7) Nostalgia B',\n",
       "  484: 'WGTour (7) Nostalgia B (Ob',\n",
       "  485: 'WGTour (7) The KORHAL (Ob)',\n",
       "  486: 'WGTour (8) DAHLIA (Ob)',\n",
       "  487: 'WGTour (8) Enter the D 200',\n",
       "  488: 'WGTour (8) Gorky Park (Ob)',\n",
       "  489: 'WGTour (8) Lost Temple 2.3',\n",
       "  490: 'WGTour (8) Lost Temple_Gam',\n",
       "  491: 'WGTour (8) Neo Bifrost 2.0',\n",
       "  492: 'WGTour (8) Neo Lost Temple',\n",
       "  493: 'WGTour (8) Nostalgia 1.3',\n",
       "  494: 'WGTour (8) The KORHAL (Ob)',\n",
       "  495: 'WSL Dahlia',\n",
       "  496: 'WSL Lost Temple 2.1',\n",
       "  497: 'WSL Nostalgia B (Ob)',\n",
       "  498: 'WSL Plains to Hill Desert ',\n",
       "  499: \"['-'v]Clan Lost_Temple(oB)\",\n",
       "  500: '[4] Lost Temple - gameTV',\n",
       "  501: '[SaSin]\\x05Python 1.3_(DTR)',\n",
       "  502: '[SaSin] \\x04Andromeda \\x051.0 \\x04v',\n",
       "  503: '[WGTour4]Neo Hall of Valha',\n",
       "  504: '| ICCup | Troy 1.0',\n",
       "  505: '| iCCup | Andromeda 1.0',\n",
       "  506: '| iCCup | Andromeda 1.0 OB',\n",
       "  507: '| iCCup | Athena II 2.0',\n",
       "  508: '| iCCup | Athena II 2.0 OB',\n",
       "  509: '| iCCup | Azalea',\n",
       "  510: '| iCCup | Blue Storm 1.1',\n",
       "  511: '| iCCup | Blue Storm 1.2',\n",
       "  512: '| iCCup | Blue Storm 1.2 O',\n",
       "  513: '| iCCup | Byzantium II 2.2',\n",
       "  514: '| iCCup | Chupung-Ryeung 1',\n",
       "  515: '| iCCup | ColosseumII 2.0',\n",
       "  516: '| iCCup | ColosseumII 2.0 ',\n",
       "  517: '| iCCup | Destination 1.1',\n",
       "  518: '| iCCup | Destination 1.1 ',\n",
       "  519: '| iCCup | Eye of the Storm',\n",
       "  520: '| iCCup | Fighting Spirit ',\n",
       "  521: '| iCCup | Gaia',\n",
       "  522: '| iCCup | Gods Garden',\n",
       "  523: '| iCCup | Heartbreak Ridge',\n",
       "  524: '| iCCup | Heatbreak Ridge',\n",
       "  525: '| iCCup | Heatbreak Ridge ',\n",
       "  526: '| iCCup | Judgement Day 1.',\n",
       "  527: '| iCCup | Katrina 1.3',\n",
       "  528: '| iCCup | Loki II',\n",
       "  529: '| iCCup | Longinus',\n",
       "  530: '| iCCup | Longinus OBs',\n",
       "  531: '| iCCup | Match Point 1.1 ',\n",
       "  532: '| iCCup | Match Point 1.2',\n",
       "  533: '| iCCup | Medusa 1.1',\n",
       "  534: '| iCCup | Medusa 1.1 OBs',\n",
       "  535: '| iCCup | Monty Hall 1.1 o',\n",
       "  536: '| iCCup | MoonGlaive 1.2',\n",
       "  537: '| iCCup | MoonGlaive 2.1',\n",
       "  538: '| iCCup | NeoMedusa 2.1',\n",
       "  539: '| iCCup | NeoMedusa 2.1 OB',\n",
       "  540: '| iCCup | NeoMedusa2.0 OBs',\n",
       "  541: '| iCCup | Othello 1.1',\n",
       "  542: '| iCCup | Othello 1.1 OBS',\n",
       "  543: '| iCCup | Othello 1.1 OBs',\n",
       "  544: '| iCCup | Outsider',\n",
       "  545: '| iCCup | Outsider OBs',\n",
       "  546: '| iCCup | Paranoid Android',\n",
       "  547: '| iCCup | PeaksOfBeakdu',\n",
       "  548: '| iCCup | Python 1.1',\n",
       "  549: '| iCCup | Python 1.2 obs',\n",
       "  550: '| iCCup | Python 1.3',\n",
       "  551: '| iCCup | Python 1.3 OBs',\n",
       "  552: '| iCCup | River of Flames ',\n",
       "  553: '| iCCup | Shine obs',\n",
       "  554: '| iCCup | Sin Chupung Ryeo',\n",
       "  555: '| iCCup | Tau Cross',\n",
       "  556: '| iCCup | Tau Cross OBs',\n",
       "  557: '| iCCup | The Fortress 1.1',\n",
       "  558: '| iCCup | Tornado',\n",
       "  559: '| iCCup | UnGoro Crater 1.',\n",
       "  560: '| iCCup | Wuthering H 1.0',\n",
       "  561: '| iCCup | ZodiAc',\n",
       "  562: '| sc2tv | Destination 1.1',\n",
       "  563: \"\\x7f \\x04Lost Temple \\x7f NaDa'-'v\",\n",
       "  564: '신 \\x03개척\\x06시대 \\x052.1',\n",
       "  565: '틼WCL� Python 1.3',\n",
       "  566: '틼WCL� Rush Hour',\n",
       "  567: '�\\x07[\\x02p\\x04G\\x07]\\x04�\\x06-=\\x02T\\x07e\\x04M\\x07p\\x02L\\x04e'}}"
      ]
     },
     "metadata": {},
     "output_type": "display_data"
    }
   ],
   "source": [
    "map_names.sort_index().to_dict()"
   ]
  },
  {
   "cell_type": "code",
   "execution_count": null,
   "metadata": {},
   "outputs": [
    {
     "data": {
      "text/plain": [
       "MapWidth\n",
       "128    1944\n",
       "96      270\n",
       "112      21\n",
       "64        1\n",
       "Name: count, dtype: int64"
      ]
     },
     "metadata": {},
     "output_type": "display_data"
    }
   ],
   "source": [
    "nearest_rows[\"MapWidth\"].value_counts()"
   ]
  },
  {
   "cell_type": "markdown",
   "metadata": {},
   "source": [
    "# SVM Model"
   ]
  },
  {
   "cell_type": "code",
   "execution_count": null,
   "metadata": {},
   "outputs": [],
   "source": [
    "# Load the data\n",
    "data = pd.read_csv('All/StarCraft_Combined_Dataset.csv')  # Replace with your actual file path\n",
    "\n",
    "# Assuming combined_data is your DataFrame\n",
    "data = data.drop(data[data['Winner'] == 0].index)\n",
    "# Assuming df is your DataFrame and 'ReplayID' is the column to be encoded\n",
    "label_encoder = LabelEncoder()\n",
    "# drop winner more than 2\n",
    "data = data.drop(data[data['Winner'] > 2].index)\n",
    "\n",
    "# convert 1 to 0 and 2 to 1\n",
    "data['Winner'] = data['Winner'].replace(1, 0)\n",
    "data['Winner'] = data['Winner'].replace(2, 1)\n",
    "\n",
    "# last_rows = data.groupby('ReplayID').tail(70).groupby('ReplayID').head(1)\n",
    "\n",
    "nearest_rows = data.loc[data.groupby('ReplayID')['Frame'].\n",
    "                        apply(lambda x: (x - 1800 * 16).abs().idxmin())]\n",
    "\n",
    "label_encoders = {}\n",
    "\n",
    "for column in ['ReplayID', 'Player1_Race', 'Player2_Race', 'MapName']:\n",
    "    label_encoders[column] = LabelEncoder()\n",
    "    nearest_rows[column] = label_encoders[column].fit_transform(nearest_rows[column])\n",
    "\n",
    "# Reset the index if needed\n",
    "nearest_rows.reset_index(drop=True, inplace=True)\n",
    "\n"
   ]
  },
  {
   "cell_type": "markdown",
   "metadata": {},
   "source": [
    "### Simple"
   ]
  },
  {
   "cell_type": "code",
   "execution_count": null,
   "metadata": {},
   "outputs": [
    {
     "name": "stdout",
     "output_type": "stream",
     "text": [
      "Accuracy: 0.74\n"
     ]
    },
    {
     "name": "stderr",
     "output_type": "stream",
     "text": [
      "c:\\Users\\abhin\\anaconda3\\envs\\DevelopmentEnv\\lib\\site-packages\\sklearn\\svm\\_classes.py:32: FutureWarning: The default value of `dual` will change from `True` to `'auto'` in 1.5. Set the value of `dual` explicitly to suppress the warning.\n",
      "  warnings.warn(\n",
      "c:\\Users\\abhin\\anaconda3\\envs\\DevelopmentEnv\\lib\\site-packages\\sklearn\\svm\\_base.py:1242: ConvergenceWarning: Liblinear failed to converge, increase the number of iterations.\n",
      "  warnings.warn(\n"
     ]
    }
   ],
   "source": [
    "from sklearn import svm #Import svm model\n",
    "\n",
    "\n",
    "# Define features (X) and target variable (y)\n",
    "X = nearest_rows[[\"Player1_Race\",\"Player2_Race\",\"Player1_AliveUnits\",\"Player2_AliveUnits\",\"Player1_SupplyUsed\",\"Player2_SupplyUsed\",\"Player1_Gas\",\"Player2_Gas\", \"Player1_Minerals\", \"Player2_Minerals\"]]\n",
    "y = nearest_rows['Winner']\n",
    "X_train, X_test, y_train, y_test = train_test_split(X, y, test_size=0.2, random_state=42) # 70% training and 30% test\n",
    "\n",
    "clf = svm.LinearSVC(C=0.00001, random_state=42) # Linear Kernel\n",
    "\n",
    "# Train the model\n",
    "clf.fit(X_train, y_train)\n",
    "\n",
    "# Make predictions on the test set\n",
    "y_pred = clf.predict(X_test)\n",
    "\n",
    "# Evaluate the model\n",
    "accuracy = accuracy_score(y_test, y_pred)\n",
    "print(f'Accuracy: {accuracy:.2f}')"
   ]
  },
  {
   "cell_type": "code",
   "execution_count": null,
   "metadata": {},
   "outputs": [
    {
     "data": {
      "text/plain": [
       "['simple_svm_model.joblib']"
      ]
     },
     "metadata": {},
     "output_type": "display_data"
    }
   ],
   "source": [
    "dump(clf, 'simple_svm_model.joblib') "
   ]
  },
  {
   "cell_type": "markdown",
   "metadata": {},
   "source": [
    "### Game State"
   ]
  },
  {
   "cell_type": "code",
   "execution_count": null,
   "metadata": {},
   "outputs": [
    {
     "name": "stdout",
     "output_type": "stream",
     "text": [
      "Accuracy: 0.71\n"
     ]
    },
    {
     "name": "stderr",
     "output_type": "stream",
     "text": [
      "c:\\Users\\abhin\\anaconda3\\envs\\DevelopmentEnv\\lib\\site-packages\\sklearn\\svm\\_classes.py:32: FutureWarning: The default value of `dual` will change from `True` to `'auto'` in 1.5. Set the value of `dual` explicitly to suppress the warning.\n",
      "  warnings.warn(\n",
      "c:\\Users\\abhin\\anaconda3\\envs\\DevelopmentEnv\\lib\\site-packages\\sklearn\\svm\\_base.py:1242: ConvergenceWarning: Liblinear failed to converge, increase the number of iterations.\n",
      "  warnings.warn(\n"
     ]
    }
   ],
   "source": [
    "# Define features (X) and target variable (y)\n",
    "X = nearest_rows[['Player1_Race','Player2_Race','MapName','MapWidth', 'MapHeight', 'Player1_EAPM', 'Player2_EAPM', 'Player1_ECmdCount', 'Player2_ECmdCount', 'Player1_TotalUnits', 'Player2_TotalUnits', 'Player1_AliveUnits', 'Player2_AliveUnits']]\n",
    "y = nearest_rows['Winner']\n",
    "X_train, X_test, y_train, y_test = train_test_split(X, y, test_size=0.3, random_state=42) # 70% training and 30% test\n",
    "\n",
    "clf = svm.LinearSVC(C=0.00001, random_state=42) # Linear Kernel\n",
    "\n",
    "# Train the model\n",
    "clf.fit(X_train, y_train)\n",
    "\n",
    "# Make predictions on the test set\n",
    "y_pred = clf.predict(X_test)\n",
    "\n",
    "# Evaluate the model\n",
    "accuracy = accuracy_score(y_test, y_pred)\n",
    "print(f'Accuracy: {accuracy:.2f}')"
   ]
  },
  {
   "cell_type": "code",
   "execution_count": null,
   "metadata": {},
   "outputs": [
    {
     "data": {
      "text/plain": [
       "['gameState_svm_model.joblib']"
      ]
     },
     "metadata": {},
     "output_type": "display_data"
    }
   ],
   "source": [
    "dump(clf, 'gameState_svm_model.joblib') "
   ]
  },
  {
   "cell_type": "markdown",
   "metadata": {},
   "source": [
    "# Logistic Regression Model"
   ]
  },
  {
   "cell_type": "code",
   "execution_count": null,
   "metadata": {},
   "outputs": [],
   "source": [
    "# Load the data\n",
    "data = pd.read_csv('All/StarCraft_Combined_Dataset.csv')  # Replace with your actual file path\n",
    "\n",
    "# Assuming combined_data is your DataFrame\n",
    "data = data.drop(data[data['Winner'] == 0].index)\n",
    "# Assuming df is your DataFrame and 'ReplayID' is the column to be encoded\n",
    "label_encoder = LabelEncoder()\n",
    "# drop winner more than 2\n",
    "data = data.drop(data[data['Winner'] > 2].index)\n",
    "\n",
    "# convert 1 to 0 and 2 to 1\n",
    "data['Winner'] = data['Winner'].replace(1, 0)\n",
    "data['Winner'] = data['Winner'].replace(2, 1)\n",
    "\n",
    "# last_rows = data.groupby('ReplayID').tail(70).groupby('ReplayID').head(1)\n",
    "\n",
    "nearest_rows = data.loc[data.groupby('ReplayID')['Frame'].\n",
    "                        apply(lambda x: (x - 1800 * 16).abs().idxmin())]\n",
    "\n",
    "label_encoders = {}\n",
    "\n",
    "for column in ['ReplayID', 'Player1_Race', 'Player2_Race', 'MapName']:\n",
    "    label_encoders[column] = LabelEncoder()\n",
    "    nearest_rows[column] = label_encoders[column].fit_transform(nearest_rows[column])\n",
    "\n",
    "# Reset the index if needed\n",
    "nearest_rows.reset_index(drop=True, inplace=True)\n",
    "\n"
   ]
  },
  {
   "cell_type": "markdown",
   "metadata": {},
   "source": [
    "### Simple"
   ]
  },
  {
   "cell_type": "code",
   "execution_count": null,
   "metadata": {},
   "outputs": [
    {
     "name": "stdout",
     "output_type": "stream",
     "text": [
      "Accuracy: 0.74\n"
     ]
    }
   ],
   "source": [
    "from sklearn.preprocessing import StandardScaler, MinMaxScaler, OrdinalEncoder\n",
    "from sklearn.compose import make_column_transformer\n",
    "from sklearn.model_selection import train_test_split\n",
    "from sklearn.linear_model import LogisticRegression\n",
    "\n",
    "\n",
    "# Define features (X) and target variable (y)\n",
    "X = nearest_rows[[\"Player1_Race\",\"Player2_Race\",\"Player1_AliveUnits\",\"Player2_AliveUnits\",\"Player1_SupplyUsed\",\"Player2_SupplyUsed\",\"Player1_Gas\",\"Player2_Gas\", \"Player1_Minerals\", \"Player2_Minerals\"]]\n",
    "y = nearest_rows['Winner']\n",
    "num_columns = X.select_dtypes(include=['int64', 'float64']).columns\n",
    "ct = make_column_transformer(\n",
    "    (StandardScaler(), num_columns),\n",
    "    remainder='passthrough'\n",
    ")\n",
    "\n",
    "X = ct.fit_transform(X)\n",
    "\n",
    "X_train, X_test, y_train, y_test = train_test_split(X, y, test_size=0.2, random_state=42) # 70% training and 30% test\n",
    "\n",
    "clf = LogisticRegression(solver='liblinear', max_iter=100, C=1)\n",
    "\n",
    "# Train the model\n",
    "clf.fit(X_train, y_train)\n",
    "\n",
    "# Make predictions on the test set\n",
    "y_pred = clf.predict(X_test)\n",
    "\n",
    "# Evaluate the model\n",
    "accuracy = accuracy_score(y_test, y_pred)\n",
    "print(f'Accuracy: {accuracy:.2f}')"
   ]
  },
  {
   "cell_type": "code",
   "execution_count": null,
   "metadata": {},
   "outputs": [
    {
     "data": {
      "text/plain": [
       "['simple_LR_model.joblib']"
      ]
     },
     "metadata": {},
     "output_type": "display_data"
    }
   ],
   "source": [
    "dump(clf, 'simple_LR_model.joblib') "
   ]
  },
  {
   "cell_type": "markdown",
   "metadata": {},
   "source": [
    "### Game State"
   ]
  },
  {
   "cell_type": "code",
   "execution_count": null,
   "metadata": {},
   "outputs": [
    {
     "name": "stdout",
     "output_type": "stream",
     "text": [
      "Accuracy: 0.74\n"
     ]
    }
   ],
   "source": [
    "# Define features (X) and target variable (y)\n",
    "X = nearest_rows[['Player1_Race','Player2_Race','MapName','MapWidth', 'MapHeight', 'Player1_EAPM', 'Player2_EAPM', 'Player1_ECmdCount', 'Player2_ECmdCount', 'Player1_TotalUnits', 'Player2_TotalUnits', 'Player1_AliveUnits', 'Player2_AliveUnits']]\n",
    "y = nearest_rows['Winner']\n",
    "num_columns = X.select_dtypes(include=['int64', 'float64']).columns\n",
    "ct = make_column_transformer(\n",
    "    (StandardScaler(), num_columns),\n",
    "    remainder='passthrough'\n",
    ")\n",
    "\n",
    "X = ct.fit_transform(X)\n",
    "\n",
    "X_train, X_test, y_train, y_test = train_test_split(X, y, test_size=0.3, random_state=42) # 70% training and 30% test\n",
    "\n",
    "clf = LogisticRegression(solver='liblinear', max_iter=100, C=1)\n",
    "\n",
    "# Train the model\n",
    "clf.fit(X_train, y_train)\n",
    "\n",
    "# Make predictions on the test set\n",
    "y_pred = clf.predict(X_test)\n",
    "\n",
    "# Evaluate the model\n",
    "accuracy = accuracy_score(y_test, y_pred)\n",
    "print(f'Accuracy: {accuracy:.2f}')"
   ]
  },
  {
   "cell_type": "code",
   "execution_count": null,
   "metadata": {},
   "outputs": [
    {
     "data": {
      "text/plain": [
       "['gameState_LR_model.joblib']"
      ]
     },
     "metadata": {},
     "output_type": "display_data"
    }
   ],
   "source": [
    "dump(clf, 'gameState_LR_model.joblib') "
   ]
  },
  {
   "cell_type": "markdown",
   "metadata": {},
   "source": [
    "# KNN Model"
   ]
  },
  {
   "cell_type": "code",
   "execution_count": null,
   "metadata": {},
   "outputs": [],
   "source": [
    "# Load the data\n",
    "data = pd.read_csv('All/StarCraft_Combined_Dataset.csv')  # Replace with your actual file path\n",
    "\n",
    "# Assuming combined_data is your DataFrame\n",
    "data = data.drop(data[data['Winner'] == 0].index)\n",
    "# Assuming df is your DataFrame and 'ReplayID' is the column to be encoded\n",
    "label_encoder = LabelEncoder()\n",
    "# drop winner more than 2\n",
    "data = data.drop(data[data['Winner'] > 2].index)\n",
    "\n",
    "# convert 1 to 0 and 2 to 1\n",
    "data['Winner'] = data['Winner'].replace(1, 0)\n",
    "data['Winner'] = data['Winner'].replace(2, 1)\n",
    "\n",
    "# last_rows = data.groupby('ReplayID').tail(70).groupby('ReplayID').head(1)\n",
    "\n",
    "nearest_rows = data.loc[data.groupby('ReplayID')['Frame'].\n",
    "                        apply(lambda x: (x - 1800 * 16).abs().idxmin())]\n",
    "\n",
    "label_encoders = {}\n",
    "\n",
    "for column in ['ReplayID', 'Player1_Race', 'Player2_Race', 'MapName']:\n",
    "    label_encoders[column] = LabelEncoder()\n",
    "    nearest_rows[column] = label_encoders[column].fit_transform(nearest_rows[column])\n",
    "\n",
    "# Reset the index if needed\n",
    "nearest_rows.reset_index(drop=True, inplace=True)\n",
    "\n"
   ]
  },
  {
   "cell_type": "markdown",
   "metadata": {},
   "source": [
    "### Simple"
   ]
  },
  {
   "cell_type": "code",
   "execution_count": null,
   "metadata": {},
   "outputs": [
    {
     "name": "stdout",
     "output_type": "stream",
     "text": [
      "(2233, 10)\n",
      "Accuracy: 0.74\n"
     ]
    }
   ],
   "source": [
    "from sklearn.preprocessing import StandardScaler, MinMaxScaler, OrdinalEncoder\n",
    "from sklearn.compose import make_column_transformer\n",
    "from sklearn.model_selection import train_test_split\n",
    "from sklearn.neighbors import KNeighborsClassifier\n",
    "\n",
    "\n",
    "# Define features (X) and target variable (y)\n",
    "X = nearest_rows[[\"Player1_Race\",\"Player2_Race\",\"Player1_AliveUnits\",\"Player2_AliveUnits\",\"Player1_SupplyUsed\",\"Player2_SupplyUsed\",\"Player1_Gas\",\"Player2_Gas\", \"Player1_Minerals\", \"Player2_Minerals\"]]\n",
    "print(X.shape)\n",
    "y = nearest_rows['Winner']\n",
    "num_columns = X.select_dtypes(include=['int64', 'float64']).columns\n",
    "ct = make_column_transformer(\n",
    "    (StandardScaler(), num_columns),\n",
    "    remainder='passthrough'\n",
    ")\n",
    "\n",
    "X = ct.fit_transform(X)\n",
    "\n",
    "X_train, X_test, y_train, y_test = train_test_split(X, y, test_size=0.2, random_state=42) # 70% training and 30% test\n",
    "\n",
    "clf = KNeighborsClassifier(n_jobs=-1, weights='distance')\n",
    "\n",
    "# Train the model\n",
    "clf.fit(X_train, y_train)\n",
    "\n",
    "# Make predictions on the test set\n",
    "y_pred = clf.predict(X_test)\n",
    "\n",
    "# Evaluate the model\n",
    "accuracy = accuracy_score(y_test, y_pred)\n",
    "print(f'Accuracy: {accuracy:.2f}')"
   ]
  },
  {
   "cell_type": "code",
   "execution_count": null,
   "metadata": {},
   "outputs": [
    {
     "data": {
      "text/plain": [
       "(2233, 10)"
      ]
     },
     "metadata": {},
     "output_type": "display_data"
    }
   ],
   "source": [
    "X.shape"
   ]
  },
  {
   "cell_type": "code",
   "execution_count": null,
   "metadata": {},
   "outputs": [
    {
     "data": {
      "text/plain": [
       "['simple_KNN_model.joblib']"
      ]
     },
     "metadata": {},
     "output_type": "display_data"
    }
   ],
   "source": [
    "dump(clf, 'simple_KNN_model.joblib') "
   ]
  },
  {
   "cell_type": "markdown",
   "metadata": {},
   "source": [
    "### Game State"
   ]
  },
  {
   "cell_type": "code",
   "execution_count": null,
   "metadata": {},
   "outputs": [
    {
     "name": "stdout",
     "output_type": "stream",
     "text": [
      "Accuracy: 0.59\n"
     ]
    }
   ],
   "source": [
    "# Define features (X) and target variable (y)\n",
    "X = nearest_rows[['Player1_Race','Player2_Race','MapName','MapWidth', 'MapHeight', 'Player1_EAPM', 'Player2_EAPM', 'Player1_ECmdCount', 'Player2_ECmdCount', 'Player1_TotalUnits', 'Player2_TotalUnits', 'Player1_AliveUnits', 'Player2_AliveUnits']]\n",
    "y = nearest_rows['Winner']\n",
    "num_columns = X.select_dtypes(include=['int64', 'float64']).columns\n",
    "ct = make_column_transformer(\n",
    "    (StandardScaler(), num_columns),\n",
    "    remainder='passthrough'\n",
    ")\n",
    "\n",
    "X = ct.fit_transform(X)\n",
    "\n",
    "X_train, X_test, y_train, y_test = train_test_split(X, y, test_size=0.3, random_state=42) # 70% training and 30% test\n",
    "\n",
    "clf = KNeighborsClassifier(n_jobs=-1, weights='distance')\n",
    "\n",
    "# Train the model\n",
    "clf.fit(X_train, y_train)\n",
    "\n",
    "# Make predictions on the test set\n",
    "y_pred = clf.predict(X_test)\n",
    "\n",
    "# Evaluate the model\n",
    "accuracy = accuracy_score(y_test, y_pred)\n",
    "print(f'Accuracy: {accuracy:.2f}')"
   ]
  },
  {
   "cell_type": "code",
   "execution_count": null,
   "metadata": {},
   "outputs": [
    {
     "name": "stdout",
     "output_type": "stream",
     "text": [
      "Fitting 3 folds for each of 3 candidates, totalling 9 fits\n"
     ]
    },
    {
     "data": {
      "text/html": [
       "<style>#sk-container-id-8 {color: black;}#sk-container-id-8 pre{padding: 0;}#sk-container-id-8 div.sk-toggleable {background-color: white;}#sk-container-id-8 label.sk-toggleable__label {cursor: pointer;display: block;width: 100%;margin-bottom: 0;padding: 0.3em;box-sizing: border-box;text-align: center;}#sk-container-id-8 label.sk-toggleable__label-arrow:before {content: \"▸\";float: left;margin-right: 0.25em;color: #696969;}#sk-container-id-8 label.sk-toggleable__label-arrow:hover:before {color: black;}#sk-container-id-8 div.sk-estimator:hover label.sk-toggleable__label-arrow:before {color: black;}#sk-container-id-8 div.sk-toggleable__content {max-height: 0;max-width: 0;overflow: hidden;text-align: left;background-color: #f0f8ff;}#sk-container-id-8 div.sk-toggleable__content pre {margin: 0.2em;color: black;border-radius: 0.25em;background-color: #f0f8ff;}#sk-container-id-8 input.sk-toggleable__control:checked~div.sk-toggleable__content {max-height: 200px;max-width: 100%;overflow: auto;}#sk-container-id-8 input.sk-toggleable__control:checked~label.sk-toggleable__label-arrow:before {content: \"▾\";}#sk-container-id-8 div.sk-estimator input.sk-toggleable__control:checked~label.sk-toggleable__label {background-color: #d4ebff;}#sk-container-id-8 div.sk-label input.sk-toggleable__control:checked~label.sk-toggleable__label {background-color: #d4ebff;}#sk-container-id-8 input.sk-hidden--visually {border: 0;clip: rect(1px 1px 1px 1px);clip: rect(1px, 1px, 1px, 1px);height: 1px;margin: -1px;overflow: hidden;padding: 0;position: absolute;width: 1px;}#sk-container-id-8 div.sk-estimator {font-family: monospace;background-color: #f0f8ff;border: 1px dotted black;border-radius: 0.25em;box-sizing: border-box;margin-bottom: 0.5em;}#sk-container-id-8 div.sk-estimator:hover {background-color: #d4ebff;}#sk-container-id-8 div.sk-parallel-item::after {content: \"\";width: 100%;border-bottom: 1px solid gray;flex-grow: 1;}#sk-container-id-8 div.sk-label:hover label.sk-toggleable__label {background-color: #d4ebff;}#sk-container-id-8 div.sk-serial::before {content: \"\";position: absolute;border-left: 1px solid gray;box-sizing: border-box;top: 0;bottom: 0;left: 50%;z-index: 0;}#sk-container-id-8 div.sk-serial {display: flex;flex-direction: column;align-items: center;background-color: white;padding-right: 0.2em;padding-left: 0.2em;position: relative;}#sk-container-id-8 div.sk-item {position: relative;z-index: 1;}#sk-container-id-8 div.sk-parallel {display: flex;align-items: stretch;justify-content: center;background-color: white;position: relative;}#sk-container-id-8 div.sk-item::before, #sk-container-id-8 div.sk-parallel-item::before {content: \"\";position: absolute;border-left: 1px solid gray;box-sizing: border-box;top: 0;bottom: 0;left: 50%;z-index: -1;}#sk-container-id-8 div.sk-parallel-item {display: flex;flex-direction: column;z-index: 1;position: relative;background-color: white;}#sk-container-id-8 div.sk-parallel-item:first-child::after {align-self: flex-end;width: 50%;}#sk-container-id-8 div.sk-parallel-item:last-child::after {align-self: flex-start;width: 50%;}#sk-container-id-8 div.sk-parallel-item:only-child::after {width: 0;}#sk-container-id-8 div.sk-dashed-wrapped {border: 1px dashed gray;margin: 0 0.4em 0.5em 0.4em;box-sizing: border-box;padding-bottom: 0.4em;background-color: white;}#sk-container-id-8 div.sk-label label {font-family: monospace;font-weight: bold;display: inline-block;line-height: 1.2em;}#sk-container-id-8 div.sk-label-container {text-align: center;}#sk-container-id-8 div.sk-container {/* jupyter's `normalize.less` sets `[hidden] { display: none; }` but bootstrap.min.css set `[hidden] { display: none !important; }` so we also need the `!important` here to be able to override the default hidden behavior on the sphinx rendered scikit-learn.org. See: https://github.com/scikit-learn/scikit-learn/issues/21755 */display: inline-block !important;position: relative;}#sk-container-id-8 div.sk-text-repr-fallback {display: none;}</style><div id=\"sk-container-id-8\" class=\"sk-top-container\"><div class=\"sk-text-repr-fallback\"><pre>RandomizedSearchCV(cv=3, estimator=KNeighborsClassifier(n_jobs=-1), n_iter=3,\n",
       "                   n_jobs=-1,\n",
       "                   param_distributions={&#x27;n_neighbors&#x27;: [1, 2, 3, 4, 5, 6, 7, 8,\n",
       "                                                        9, 10, 11, 12, 13, 14,\n",
       "                                                        15, 16, 17, 18, 19],\n",
       "                                        &#x27;weights&#x27;: [&#x27;uniform&#x27;, &#x27;distance&#x27;]},\n",
       "                   verbose=2)</pre><b>In a Jupyter environment, please rerun this cell to show the HTML representation or trust the notebook. <br />On GitHub, the HTML representation is unable to render, please try loading this page with nbviewer.org.</b></div><div class=\"sk-container\" hidden><div class=\"sk-item sk-dashed-wrapped\"><div class=\"sk-label-container\"><div class=\"sk-label sk-toggleable\"><input class=\"sk-toggleable__control sk-hidden--visually\" id=\"sk-estimator-id-18\" type=\"checkbox\" ><label for=\"sk-estimator-id-18\" class=\"sk-toggleable__label sk-toggleable__label-arrow\">RandomizedSearchCV</label><div class=\"sk-toggleable__content\"><pre>RandomizedSearchCV(cv=3, estimator=KNeighborsClassifier(n_jobs=-1), n_iter=3,\n",
       "                   n_jobs=-1,\n",
       "                   param_distributions={&#x27;n_neighbors&#x27;: [1, 2, 3, 4, 5, 6, 7, 8,\n",
       "                                                        9, 10, 11, 12, 13, 14,\n",
       "                                                        15, 16, 17, 18, 19],\n",
       "                                        &#x27;weights&#x27;: [&#x27;uniform&#x27;, &#x27;distance&#x27;]},\n",
       "                   verbose=2)</pre></div></div></div><div class=\"sk-parallel\"><div class=\"sk-parallel-item\"><div class=\"sk-item\"><div class=\"sk-label-container\"><div class=\"sk-label sk-toggleable\"><input class=\"sk-toggleable__control sk-hidden--visually\" id=\"sk-estimator-id-19\" type=\"checkbox\" ><label for=\"sk-estimator-id-19\" class=\"sk-toggleable__label sk-toggleable__label-arrow\">estimator: KNeighborsClassifier</label><div class=\"sk-toggleable__content\"><pre>KNeighborsClassifier(n_jobs=-1)</pre></div></div></div><div class=\"sk-serial\"><div class=\"sk-item\"><div class=\"sk-estimator sk-toggleable\"><input class=\"sk-toggleable__control sk-hidden--visually\" id=\"sk-estimator-id-20\" type=\"checkbox\" ><label for=\"sk-estimator-id-20\" class=\"sk-toggleable__label sk-toggleable__label-arrow\">KNeighborsClassifier</label><div class=\"sk-toggleable__content\"><pre>KNeighborsClassifier(n_jobs=-1)</pre></div></div></div></div></div></div></div></div></div></div>"
      ],
      "text/plain": [
       "RandomizedSearchCV(cv=3, estimator=KNeighborsClassifier(n_jobs=-1), n_iter=3,\n",
       "                   n_jobs=-1,\n",
       "                   param_distributions={'n_neighbors': [1, 2, 3, 4, 5, 6, 7, 8,\n",
       "                                                        9, 10, 11, 12, 13, 14,\n",
       "                                                        15, 16, 17, 18, 19],\n",
       "                                        'weights': ['uniform', 'distance']},\n",
       "                   verbose=2)"
      ]
     },
     "metadata": {},
     "output_type": "display_data"
    }
   ],
   "source": [
    "from sklearn.model_selection import RandomizedSearchCV\n",
    "\n",
    "param_grid = {\n",
    "    \"n_neighbors\": list(range(1, 20,1)),\n",
    "    \"weights\": [\"uniform\", \"distance\"],\n",
    "}\n",
    "\n",
    "knn = KNeighborsClassifier(n_jobs=-1)\n",
    "\n",
    "clf = RandomizedSearchCV(knn, param_grid, n_jobs=-1, n_iter=3, verbose=2, cv=3)\n",
    "\n",
    "clf.fit(X_train, y_train)"
   ]
  },
  {
   "cell_type": "code",
   "execution_count": null,
   "metadata": {},
   "outputs": [
    {
     "data": {
      "text/plain": [
       "0.5662188099808061"
      ]
     },
     "metadata": {},
     "output_type": "display_data"
    }
   ],
   "source": [
    "clf.best_score_"
   ]
  },
  {
   "cell_type": "code",
   "execution_count": null,
   "metadata": {},
   "outputs": [
    {
     "data": {
      "text/plain": [
       "['gameState_KNN_model.joblib']"
      ]
     },
     "metadata": {},
     "output_type": "display_data"
    }
   ],
   "source": [
    "dump(clf, 'gameState_KNN_model.joblib') "
   ]
  },
  {
   "cell_type": "markdown",
   "metadata": {},
   "source": [
    "# Decision Trees Model"
   ]
  },
  {
   "cell_type": "code",
   "execution_count": null,
   "metadata": {},
   "outputs": [],
   "source": [
    "# Load the data\n",
    "data = pd.read_csv('All/StarCraft_Combined_Dataset.csv')  # Replace with your actual file path\n",
    "\n",
    "# Assuming combined_data is your DataFrame\n",
    "data = data.drop(data[data['Winner'] == 0].index)\n",
    "# Assuming df is your DataFrame and 'ReplayID' is the column to be encoded\n",
    "label_encoder = LabelEncoder()\n",
    "# drop winner more than 2\n",
    "data = data.drop(data[data['Winner'] > 2].index)\n",
    "\n",
    "# convert 1 to 0 and 2 to 1\n",
    "data['Winner'] = data['Winner'].replace(1, 0)\n",
    "data['Winner'] = data['Winner'].replace(2, 1)\n",
    "\n",
    "# last_rows = data.groupby('ReplayID').tail(70).groupby('ReplayID').head(1)\n",
    "\n",
    "nearest_rows = data.loc[data.groupby('ReplayID')['Frame'].\n",
    "                        apply(lambda x: (x - 1800 * 16).abs().idxmin())]\n",
    "\n",
    "label_encoders = {}\n",
    "\n",
    "for column in ['ReplayID', 'Player1_Race', 'Player2_Race', 'MapName']:\n",
    "    label_encoders[column] = LabelEncoder()\n",
    "    nearest_rows[column] = label_encoders[column].fit_transform(nearest_rows[column])\n",
    "\n",
    "# Reset the index if needed\n",
    "nearest_rows.reset_index(drop=True, inplace=True)\n",
    "\n"
   ]
  },
  {
   "cell_type": "markdown",
   "metadata": {},
   "source": [
    "### Simple"
   ]
  },
  {
   "cell_type": "code",
   "execution_count": null,
   "metadata": {},
   "outputs": [
    {
     "name": "stdout",
     "output_type": "stream",
     "text": [
      "Accuracy: 0.75\n"
     ]
    }
   ],
   "source": [
    "from sklearn.tree import DecisionTreeClassifier\n",
    "\n",
    "\n",
    "# Define features (X) and target variable (y)\n",
    "X = nearest_rows[[\"Player1_Race\",\"Player2_Race\",\"Player1_AliveUnits\",\"Player2_AliveUnits\",\"Player1_SupplyUsed\",\"Player2_SupplyUsed\",\"Player1_Gas\",\"Player2_Gas\", \"Player1_Minerals\", \"Player2_Minerals\"]]\n",
    "y = nearest_rows['Winner']\n",
    "X_train, X_test, y_train, y_test = train_test_split(X, y, test_size=0.2, random_state=42) # 70% training and 30% test\n",
    "\n",
    "clf = DecisionTreeClassifier(min_samples_split=10,max_depth=6)\n",
    "\n",
    "# Train the model\n",
    "clf.fit(X_train, y_train)\n",
    "\n",
    "# Make predictions on the test set\n",
    "y_pred = clf.predict(X_test)\n",
    "\n",
    "# Evaluate the model\n",
    "accuracy = accuracy_score(y_test, y_pred)\n",
    "print(f'Accuracy: {accuracy:.2f}')"
   ]
  },
  {
   "cell_type": "code",
   "execution_count": null,
   "metadata": {},
   "outputs": [
    {
     "data": {
      "text/plain": [
       "['simple_DT_model.joblib']"
      ]
     },
     "metadata": {},
     "output_type": "display_data"
    }
   ],
   "source": [
    "dump(clf, 'simple_DT_model.joblib') "
   ]
  },
  {
   "cell_type": "markdown",
   "metadata": {},
   "source": [
    "### Game State"
   ]
  },
  {
   "cell_type": "code",
   "execution_count": null,
   "metadata": {},
   "outputs": [
    {
     "name": "stdout",
     "output_type": "stream",
     "text": [
      "Accuracy: 0.70\n"
     ]
    }
   ],
   "source": [
    "# Define features (X) and target variable (y)\n",
    "X = nearest_rows[['Player1_Race','Player2_Race','MapName','MapWidth', 'MapHeight', 'Player1_EAPM', 'Player2_EAPM', 'Player1_ECmdCount', 'Player2_ECmdCount', 'Player1_TotalUnits', 'Player2_TotalUnits', 'Player1_AliveUnits', 'Player2_AliveUnits']]\n",
    "y = nearest_rows['Winner']\n",
    "X_train, X_test, y_train, y_test = train_test_split(X, y, test_size=0.3, random_state=42) # 70% training and 30% test\n",
    "\n",
    "clf = DecisionTreeClassifier(min_samples_split=10,max_depth=6)\n",
    "\n",
    "# Train the model\n",
    "clf.fit(X_train, y_train)\n",
    "\n",
    "# Make predictions on the test set\n",
    "y_pred = clf.predict(X_test)\n",
    "\n",
    "# Evaluate the model\n",
    "accuracy = accuracy_score(y_test, y_pred)\n",
    "print(f'Accuracy: {accuracy:.2f}')"
   ]
  },
  {
   "cell_type": "code",
   "execution_count": null,
   "metadata": {},
   "outputs": [
    {
     "data": {
      "text/plain": [
       "['gameState_DT_model.joblib']"
      ]
     },
     "metadata": {},
     "output_type": "display_data"
    }
   ],
   "source": [
    "dump(clf, 'gameState_DT_model.joblib') "
   ]
  }
 ],
 "metadata": {
  "kernelspec": {
   "display_name": "DevelopmentEnv",
   "language": "python",
   "name": "python3"
  },
  "language_info": {
   "codemirror_mode": {
    "name": "ipython",
    "version": 3
   },
   "file_extension": ".py",
   "mimetype": "text/x-python",
   "name": "python",
   "nbconvert_exporter": "python",
   "pygments_lexer": "ipython3",
   "version": "3.9.18"
  }
 },
 "nbformat": 4,
 "nbformat_minor": 2
}
